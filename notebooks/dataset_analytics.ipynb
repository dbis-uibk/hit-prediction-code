{
 "cells": [
  {
   "cell_type": "markdown",
   "metadata": {},
   "source": [
    "# Analyze Dataset"
   ]
  },
  {
   "cell_type": "code",
   "execution_count": null,
   "metadata": {},
   "outputs": [],
   "source": [
    "import glob\n",
    "import json\n",
    "\n",
    "import numpy as np\n",
    "import pandas as pd\n",
    "\n",
    "\n",
    "dataset = pd.read_parquet('../data/hit_song_prediction_lfm_popularity/raw/dataset_20.parquet')\n",
    "dataset_cols = list(filter(lambda x: not x.startswith('highlevel') and not x.startswith('lowlevel') and not x.startswith('rhythm') and not x.startswith('tonal'), list(dataset.columns)))\n",
    "\n",
    "charts = pd.read_csv('/storage/nas3/datasets/music/billboard/billboard_hot-100_1958-08-11_2019-07-06.csv', header=0, index_col=0)\n",
    "yt = pd.read_pickle('../data/interim/lfm_popularity/mp3s/yt_info.pickle')\n",
    "\n",
    "dataset_charts = dataset.merge(charts, left_on=['artist_name', 'recording_name'], right_on=['artist', 'title'])\n",
    "dataset_yt = dataset.merge(yt, left_on=['recording_mbid'], right_on=['mbid'])\n",
    "dataset_all = dataset_charts.merge(yt, left_on=['recording_mbid'], right_on=['mbid'])"
   ]
  },
  {
   "cell_type": "markdown",
   "metadata": {},
   "source": [
    "## Show duplicates"
   ]
  },
  {
   "cell_type": "code",
   "execution_count": null,
   "metadata": {},
   "outputs": [],
   "source": [
    "duplicates = dataset[dataset.duplicated(['artist_name', 'recording_name'], keep=False)]\n",
    "duplicates.sort_values(['artist_name', 'recording_name'], inplace=True)\n",
    "duplicates = duplicates[duplicates['listener_count'] > 100_000]\n",
    "display(duplicates[dataset_cols])"
   ]
  },
  {
   "cell_type": "markdown",
   "metadata": {},
   "source": [
    "## Charts"
   ]
  },
  {
   "cell_type": "code",
   "execution_count": null,
   "metadata": {},
   "outputs": [],
   "source": [
    "import seaborn as sns\n",
    "\n",
    "corr = dataset_charts[['listener_count','play_count','peakPos', 'rank', 'weeks']].corr()\n",
    "sns.heatmap(corr, annot=True, cmap='coolwarm', vmin=0., vmax=1.).set_title('Pearson')"
   ]
  },
  {
   "cell_type": "code",
   "execution_count": null,
   "metadata": {},
   "outputs": [],
   "source": [
    "kendall_corr = dataset_charts[['listener_count','play_count','peakPos', 'rank', 'weeks']].corr(method='kendall')\n",
    "sns.heatmap(kendall_corr, annot=True, cmap='coolwarm', vmin=0., vmax=1.).set_title('kendall')"
   ]
  },
  {
   "cell_type": "markdown",
   "metadata": {},
   "source": [
    "## Target Values"
   ]
  },
  {
   "cell_type": "code",
   "execution_count": null,
   "metadata": {},
   "outputs": [],
   "source": [
    "targets = ['play_count', 'listener_count', 'yt_view_count', 'yt_like_count', 'yt_dislike_count', 'log_pc', 'log_lc', 'log_yt_vc', 'lfm_hit_score', 'log_lfm_hit_score']\n",
    "\n",
    "dataset_yt = dataset_yt[dataset_yt['listener_count'] > 0]\n",
    "dataset_yt = dataset_yt[dataset_yt['play_count'] > 0]\n",
    "dataset_yt.drop_duplicates(['artist_name', 'recording_name'], inplace=True)\n",
    "\n",
    "dataset_yt['log_pc'] = np.log(dataset_yt['play_count'])\n",
    "dataset_yt['log_lc'] = np.log(dataset_yt['listener_count'])\n",
    "\n",
    "dataset_yt['log_yt_vc'] = np.log(dataset_yt['yt_view_count'])\n",
    "\n",
    "dataset_yt['lfm_hit_score'] = dataset_yt['log_pc'] * dataset_yt['log_lc']\n",
    "dataset_yt['log_lfm_hit_score'] = np.log(dataset_yt['lfm_hit_score'])\n",
    "\n",
    "corr = dataset_yt[targets].corr()\n",
    "sns.heatmap(corr, annot=True, cmap='coolwarm', vmin=0., vmax=1.).set_title('Pearson')"
   ]
  },
  {
   "cell_type": "code",
   "execution_count": null,
   "metadata": {},
   "outputs": [],
   "source": [
    "kendall_corr = dataset_yt[targets].corr(method='kendall')\n",
    "sns.heatmap(kendall_corr, annot=True, cmap='coolwarm', vmin=0., vmax=1.).set_title('kendall')"
   ]
  },
  {
   "cell_type": "code",
   "execution_count": null,
   "metadata": {},
   "outputs": [],
   "source": [
    "reduced_dataset = dataset_yt[~dataset_yt['yt_release_date'].isna()]\n",
    "\n",
    "kendall_corr = reduced_dataset[targets].corr(method='kendall')\n",
    "sns.heatmap(kendall_corr, annot=True, cmap='coolwarm', vmin=0., vmax=1.).set_title('kendall')\n",
    "display(len(dataset_yt), len(reduced_dataset))\n",
    "\n",
    "display(reduced_dataset[targets].head(10))"
   ]
  },
  {
   "cell_type": "code",
   "execution_count": null,
   "metadata": {},
   "outputs": [],
   "source": [
    "plot_columns = ['log_pc', 'log_lc', 'log_yt_vc', 'lfm_hit_score', 'log_lfm_hit_score']\n",
    "\n",
    "plot_data = dataset_yt.sort_values(by=['log_yt_vc']).reset_index()\n",
    "\n",
    "display(plot_data[['artist_name', 'recording_name'] + plot_columns].tail(10))\n",
    "\n",
    "plot_data[plot_columns].plot()"
   ]
  },
  {
   "cell_type": "code",
   "execution_count": null,
   "metadata": {},
   "outputs": [],
   "source": [
    "targets = ['play_count', 'listener_count', 'peakPos', 'rank', 'weeks', 'log_pc', 'log_lc', 'lfm_hit_score', 'log_lfm_hit_score']\n",
    "\n",
    "dataset_charts = dataset_charts[dataset_charts['listener_count'] > 0]\n",
    "dataset_charts = dataset_charts[dataset_charts['play_count'] > 0]\n",
    "\n",
    "dataset_charts['log_pc'] = np.log(dataset_charts['play_count'])\n",
    "dataset_charts['log_lc'] = np.log(dataset_charts['listener_count'])\n",
    "\n",
    "dataset_charts['lfm_hit_score'] = dataset_charts['log_pc'] * dataset_charts['log_lc']\n",
    "dataset_charts['log_lfm_hit_score'] = np.log(dataset_charts['lfm_hit_score'])\n",
    "\n",
    "corr = dataset_charts[targets].corr()\n",
    "sns.heatmap(corr, annot=True, cmap='coolwarm', vmin=0., vmax=1.).set_title('Pearson')"
   ]
  },
  {
   "cell_type": "code",
   "execution_count": null,
   "metadata": {},
   "outputs": [],
   "source": [
    "kendall_corr = dataset_charts[targets].corr(method='kendall')\n",
    "sns.heatmap(kendall_corr, annot=True, cmap='coolwarm', vmin=0., vmax=1.).set_title('kendall')"
   ]
  },
  {
   "cell_type": "code",
   "execution_count": null,
   "metadata": {},
   "outputs": [],
   "source": [
    "plot_columns = ['log_pc', 'log_lc', 'lfm_hit_score', 'log_lfm_hit_score']\n",
    "\n",
    "plot_data = dataset_yt[dataset_yt['lfm_hit_score'] > 10].sort_values(by=['lfm_hit_score']).reset_index()\n",
    "plot_data = plot_data\n",
    "display(plot_data[['artist_name', 'recording_name'] + plot_columns].tail(10))\n",
    "\n",
    "plot_data[plot_columns].plot()"
   ]
  }
 ],
 "metadata": {
  "kernelspec": {
   "display_name": "Python 3 (ipykernel)",
   "language": "python",
   "name": "python3"
  },
  "language_info": {
   "codemirror_mode": {
    "name": "ipython",
    "version": 3
   },
   "file_extension": ".py",
   "mimetype": "text/x-python",
   "name": "python",
   "nbconvert_exporter": "python",
   "pygments_lexer": "ipython3",
   "version": "3.8.12"
  }
 },
 "nbformat": 4,
 "nbformat_minor": 4
}
