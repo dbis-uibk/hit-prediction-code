{
 "cells": [
  {
   "cell_type": "code",
   "execution_count": null,
   "id": "02caf19e",
   "metadata": {},
   "outputs": [],
   "source": [
    "import matplotlib as mpl\n",
    "import pandas as pd\n",
    "\n",
    "figsize = (8,5)\n",
    "xlim = (2,100)\n",
    "ylim = (0,.5)\n",
    "marker = None\n",
    "linewidth = 2\n",
    "\n",
    "xticks = ([2] + list(range(5, 101, 5)))\n",
    "\n",
    "markersize = 7\n",
    "markers = [ 'o', 'v', '^', '<', '>', 's', 'p', '*', 'h', 'H', '+', 'x', 'D', 'd', '|', '_', 'P', 'X']"
   ]
  },
  {
   "cell_type": "code",
   "execution_count": null,
   "id": "ecf7eb33",
   "metadata": {},
   "outputs": [],
   "source": [
    "hsp_s = pd.read_csv('/home/mikevo/docs/publications/2022_ismir/hsp-s_results.csv')\n",
    "\n",
    "ax = hsp_s.plot.line(x='# classes', title='HSP-S', grid=True, figsize=figsize, ylabel='Kappa', xlim=xlim, ylim=ylim, marker=marker, linewidth=linewidth, xticks=xticks, ms=markersize)\n",
    "for i, line in enumerate(ax.get_lines()):\n",
    "    line.set_marker(markers[i])\n",
    "ax.legend(ax.get_lines(), hsp_s.columns[1:], loc='best')\n",
    "ax.figure.savefig('/home/mikevo/docs/publications/2022_ismir/hsp-s_results.png')"
   ]
  },
  {
   "cell_type": "code",
   "execution_count": null,
   "id": "85ecbdef",
   "metadata": {},
   "outputs": [],
   "source": [
    "hsp_l = pd.read_csv('/home/mikevo/docs/publications/2022_ismir/hsp-l_results.csv')\n",
    "\n",
    "ax = hsp_l.plot.line(x='# classes', title='HSP-L', grid=True, figsize=figsize, ylabel='Kappa', xlim=xlim, ylim=ylim, marker=marker, linewidth=linewidth, xticks=xticks, ms=markersize)\n",
    "for i, line in enumerate(ax.get_lines()):\n",
    "    line.set_marker(markers[i])\n",
    "ax.legend(ax.get_lines(), hsp_s.columns[1:], loc='best')\n",
    "\n",
    "ax.figure.savefig('/home/mikevo/docs/publications/2022_ismir/hsp-l_results.png')"
   ]
  }
 ],
 "metadata": {
  "kernelspec": {
   "display_name": "Python 3 (ipykernel)",
   "language": "python",
   "name": "python3"
  },
  "language_info": {
   "codemirror_mode": {
    "name": "ipython",
    "version": 3
   },
   "file_extension": ".py",
   "mimetype": "text/x-python",
   "name": "python",
   "nbconvert_exporter": "python",
   "pygments_lexer": "ipython3",
   "version": "3.8.12"
  }
 },
 "nbformat": 4,
 "nbformat_minor": 5
}
