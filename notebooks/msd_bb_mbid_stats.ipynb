{
 "cells": [
  {
   "cell_type": "markdown",
   "metadata": {},
   "source": [
    "# Datasets Statistics MSD BB MBID"
   ]
  },
  {
   "cell_type": "code",
   "execution_count": null,
   "metadata": {},
   "outputs": [],
   "source": [
    "import pandas as pd\n",
    "\n",
    "\n",
    "msd_bb_mbid_matches = pd.read_csv('../data/hit_song_prediction_ismir2020/interim/msd_bb_mbid_matches.csv', index_col=0)\n",
    "msd_bb_mbid_non_matches = pd.read_csv('../data/hit_song_prediction_ismir2020/interim/msd_bb_mbid_non_matches.csv', index_col=0)\n",
    "\n",
    "counts = pd.DataFrame({\n",
    "    'matches': {\n",
    "        'msd_id_count': msd_bb_mbid_matches['msd_id'].nunique(),\n",
    "        'mbid_count': msd_bb_mbid_matches['mbid'].nunique(),\n",
    "    },\n",
    "    'non_matches': {\n",
    "        'msd_id_count': msd_bb_mbid_non_matches['msd_id'].nunique(),\n",
    "        'mbid_count': msd_bb_mbid_non_matches['mbid'].nunique(),\n",
    "    },\n",
    "}).T\n",
    "\n",
    "counts['ratio'] = counts['mbid_count'] / counts['msd_id_count']\n",
    "display(counts)"
   ]
  },
  {
   "cell_type": "code",
   "execution_count": null,
   "metadata": {},
   "outputs": [],
   "source": [
    "from hit_prediction_code.dataloaders import millionsongdataset\n",
    "import re\n",
    "\n",
    "msd = millionsongdataset.read_msd_unique_tracks('..')\n",
    "\n",
    "bb = pd.read_csv('../data/billboard/billboard_hot-100_1958-08-11_2019-07-06.csv', header=0)\n",
    "\n",
    "msd['artist_lower'] = msd['artist'].apply(lambda s: re.sub(r'\\s+', ' ', str(s).lower().strip()))\n",
    "msd['title_lower'] = msd['title'].apply(lambda s: re.sub(r'\\s+', ' ', str(s).lower().strip()))\n",
    "\n",
    "bb['artist_lower'] = bb['artist'].apply(lambda s: re.sub(r'\\s+', ' ', str(s).lower().strip()))\n",
    "bb['title_lower'] = bb['title'].apply(lambda s: re.sub(r'\\s+', ' ', str(s).lower().strip()))\n",
    "\n",
    "msd_bb = msd.merge(bb, on=['artist', 'title'])\n",
    "msd_bb_lower = msd.merge(bb, on=['artist_lower', 'title_lower'])"
   ]
  },
  {
   "cell_type": "code",
   "execution_count": null,
   "metadata": {},
   "outputs": [],
   "source": [
    "clean_re = r'[^\\w\\s]'\n",
    "\n",
    "msd['artist_clean'] = msd['artist_lower'].apply(lambda s: re.sub(clean_re, '', s))\n",
    "msd['title_clean'] = msd['title_lower'].apply(lambda s: re.sub(clean_re, '', s))\n",
    "\n",
    "bb['artist_clean'] = bb['artist_lower'].apply(lambda s: re.sub(clean_re, '', s))\n",
    "bb['title_clean'] = bb['title_lower'].apply(lambda s: re.sub(clean_re, '', s))\n",
    "\n",
    "msd_bb_clean = msd.merge(bb, on=['artist_clean', 'title_clean'])\n",
    "\n",
    "display(len(msd_bb), len(msd_bb_lower), len(msd_bb_clean))\n",
    "\n",
    "display(msd_bb_clean[~msd_bb_clean.msd_id.isin(msd_bb_lower['msd_id'])][['artist_x', 'artist_y', 'title_x', 'title_y']])"
   ]
  },
  {
   "cell_type": "code",
   "execution_count": null,
   "metadata": {},
   "outputs": [],
   "source": [
    "msd_mbid_map = pd.read_csv(\n",
    "    '../data/hit_song_prediction_ismir2020/raw/msd-mbid-2016-01-results-ab.csv',\n",
    "    names=['msd_id', 'mbid', 'title', 'artist'],\n",
    ")\n",
    "\n",
    "msd_mbid = pd.read_csv(\n",
    "    '../data/hit_song_prediction_ismir2019/msd_bb_matches.csv',\n",
    "    names=['msd_id', 'mbid', 'title', 'artist'],\n",
    ")\n",
    "\n",
    "msd_bb = msd_bb_clean.merge(msd_mbid_map, on=['msd_id'])\n",
    "msd_bb = msd_bb.drop_duplicates(['artist_clean', 'title_clean'])\n",
    "display(msd_bb['msd_id'].nunique(), msd_mbid['msd_id'].nunique())"
   ]
  },
  {
   "cell_type": "markdown",
   "metadata": {},
   "source": [
    "## Merged dataset sizes for non-hits"
   ]
  },
  {
   "cell_type": "code",
   "execution_count": null,
   "metadata": {},
   "outputs": [],
   "source": [
    "ab_hl_features = pd.read_parquet('../data/hit_song_prediction_ismir2020/interim/msd_bb_mbid_non_matches_ab_hl_features.parquet')[['mbid']]\n",
    "ab_hl_features = ab_hl_features.merge(msd_bb_mbid_non_matches, on=['mbid'])[['msd_id', 'mbid']]\n",
    "msd_hl_features = pd.read_parquet('../data/hit_song_prediction_ismir2020/interim/msd_bb_mbid_non_matches_msd_hl_features.parquet')[['msd_id']]\n",
    "\n",
    "\n",
    "ab_ll_features = pd.read_parquet('../data/hit_song_prediction_ismir2020/interim/msd_bb_mbid_non_matches_ab_ll_features.parquet')[['mbid']]\n",
    "ab_ll_features = ab_ll_features.merge(msd_bb_mbid_non_matches, on=['mbid'])[['msd_id', 'mbid']]\n",
    "msd_ll_features = pd.read_parquet('../data/hit_song_prediction_ismir2020/interim/msd_bb_mbid_non_matches_msd_ll_features.parquet')[['msd_id']]\n",
    "\n",
    "hl_features = ab_hl_features.merge(msd_hl_features, on=['msd_id'])\n",
    "ll_features = ab_ll_features.merge(msd_ll_features, on=['msd_id'])\n",
    "\n",
    "all_features = ll_features.merge(hl_features, on=['msd_id'])\n",
    "\n",
    "counts = pd.DataFrame({\n",
    "    'ab_hl': {\n",
    "        'msd_id_count': ab_hl_features['msd_id'].nunique(),\n",
    "    },\n",
    "    'ab_ll': {\n",
    "        'msd_id_count': ab_ll_features['msd_id'].nunique(),\n",
    "    },\n",
    "    'msd_hl': {\n",
    "        'msd_id_count': msd_hl_features['msd_id'].nunique(),\n",
    "    },\n",
    "    'msd_ll': {\n",
    "        'msd_id_count': msd_ll_features['msd_id'].nunique(),\n",
    "    },\n",
    "    'hl': {\n",
    "        'msd_id_count': hl_features['msd_id'].nunique(),\n",
    "    },\n",
    "    'll': {\n",
    "        'msd_id_count': ll_features['msd_id'].nunique(),\n",
    "    },\n",
    "    'all': {\n",
    "        'msd_id_count': all_features['msd_id'].nunique(),\n",
    "    },\n",
    "})\n",
    "display(counts)"
   ]
  },
  {
   "cell_type": "markdown",
   "metadata": {},
   "source": [
    "## Merged dataset sizes for hits"
   ]
  },
  {
   "cell_type": "code",
   "execution_count": null,
   "metadata": {},
   "outputs": [],
   "source": [
    "ab_hl_features = pd.read_parquet('../data/hit_song_prediction_ismir2020/interim/msd_bb_mbid_matches_ab_hl_features.parquet')[['mbid']]\n",
    "ab_hl_features = ab_hl_features.merge(msd_bb_mbid_matches, on=['mbid'])[['msd_id', 'mbid']]\n",
    "msd_hl_features = pd.read_parquet('../data/hit_song_prediction_ismir2020/interim/msd_bb_mbid_matches_msd_hl_features.parquet')[['msd_id']]\n",
    "\n",
    "\n",
    "ab_ll_features = pd.read_parquet('../data/hit_song_prediction_ismir2020/interim/msd_bb_mbid_matches_ab_ll_features.parquet')[['mbid']]\n",
    "ab_ll_features = ab_ll_features.merge(msd_bb_mbid_matches, on=['mbid'])[['msd_id', 'mbid']]\n",
    "msd_ll_features = pd.read_parquet('../data/hit_song_prediction_ismir2020/interim/msd_bb_mbid_matches_msd_ll_features.parquet')[['msd_id']]\n",
    "\n",
    "hl_features = ab_hl_features.merge(msd_hl_features, on=['msd_id'])\n",
    "ll_features = ab_ll_features.merge(msd_ll_features, on=['msd_id'])\n",
    "mel_features = pd.read_pickle('../data/hit_song_prediction_ismir2020/interim/msd_bb_matches.pickle')[['msd_id']]\n",
    "\n",
    "all_features = ll_features.merge(hl_features, on=['msd_id'])\n",
    "all_features = all_features.merge(mel_features, on=['msd_id'])\n",
    "\n",
    "counts = pd.DataFrame({\n",
    "    'ab_hl': {\n",
    "        'msd_id_count': ab_hl_features['msd_id'].nunique(),\n",
    "    },\n",
    "    'ab_ll': {\n",
    "        'msd_id_count': ab_ll_features['msd_id'].nunique(),\n",
    "    },\n",
    "    'msd_hl': {\n",
    "        'msd_id_count': msd_hl_features['msd_id'].nunique(),\n",
    "    },\n",
    "    'msd_ll': {\n",
    "        'msd_id_count': msd_ll_features['msd_id'].nunique(),\n",
    "    },\n",
    "    'hl': {\n",
    "        'msd_id_count': hl_features['msd_id'].nunique(),\n",
    "    },\n",
    "    'll': {\n",
    "        'msd_id_count': ll_features['msd_id'].nunique(),\n",
    "    },\n",
    "    'mel': {\n",
    "        'msd_id_count': mel_features['msd_id'].nunique(),\n",
    "    },\n",
    "    'all': {\n",
    "        'msd_id_count': all_features['msd_id'].nunique(),\n",
    "    },\n",
    "})\n",
    "display(counts)"
   ]
  },
  {
   "cell_type": "code",
   "execution_count": null,
   "metadata": {},
   "outputs": [],
   "source": [
    "feature = 'highlevel.gender.all.female'\n",
    "\n",
    "ab_hl_features = pd.read_parquet('../data/hit_song_prediction_ismir2020/interim/msd_bb_mbid_matches_ab_hl_features.parquet')\n",
    "data = ab_hl_features.merge(msd_bb_mbid_matches, on=['mbid'])\n",
    "\n",
    "dup = data[data.duplicated(['msd_id'], keep=False)]\n",
    "\n",
    "describtion = dup[['msd_id', feature]].groupby('msd_id').apply(lambda x: x.describe().T)\n",
    "describtion['diff'] = describtion['max'] - describtion['min']\n",
    "\n",
    "stddev = data[feature].std()\n",
    "describtion['ratio'] = describtion['std'] / stddev\n",
    "\n",
    "display(describtion.describe())\n",
    "\n",
    "describtion[describtion['ratio'] >= 1.]"
   ]
  }
 ],
 "metadata": {
  "kernelspec": {
   "display_name": "Python 3",
   "language": "python",
   "name": "python3"
  },
  "language_info": {
   "codemirror_mode": {
    "name": "ipython",
    "version": 3
   },
   "file_extension": ".py",
   "mimetype": "text/x-python",
   "name": "python",
   "nbconvert_exporter": "python",
   "pygments_lexer": "ipython3",
   "version": "3.6.11"
  }
 },
 "nbformat": 4,
 "nbformat_minor": 4
}
