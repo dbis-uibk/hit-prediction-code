{
 "cells": [
  {
   "cell_type": "code",
   "execution_count": null,
   "metadata": {},
   "outputs": [],
   "source": [
    "import os.path\n",
    "\n",
    "import matplotlib.pyplot as plt\n",
    "import numpy as np\n",
    "import pandas as pd\n",
    "\n",
    "from hit_prediction_code.analytics import get_results_as_dataframe\n",
    "from hit_prediction_code import analytics\n",
    "\n",
    "results = get_results_as_dataframe(\n",
    "    project_name='hit-prediction-ismir2020',\n",
    "    table_name='hit_prediction',\n",
    "    filter_git_dirty=False,\n",
    "    date_filter='> \\'2021-08-19 13:20:00\\'',\n",
    "    columns=['id', 'date', 'sourcefile', 'outcome'],\n",
    "#     filters=['sourcefile LIKE \\'plans/hspd/regression_%%.py\\''],\n",
    "    filters=['sourcefile LIKE \\'plans/hspd/regression_%%_mel%%.py\\''],\n",
    "#     filters=['sourcefile LIKE \\'plans/ordinal%%\\''],\n",
    ")\n",
    "\n",
    "analytics.add_approach_to_df(results)\n",
    "analytics.add_cv_epoch_evaluator_outcome_to_df(results)\n",
    "\n",
    "results.sort_values(by='sourcefile', inplace=True)\n",
    "display(len(results))"
   ]
  },
  {
   "cell_type": "code",
   "execution_count": null,
   "metadata": {},
   "outputs": [],
   "source": [
    "best_results = []\n",
    "for _, row in results.iterrows():\n",
    "    metrics = list(filter(lambda i: i not in ['confusion_matrix'], row['mean'].index))\n",
    "    row = pd.DataFrame(pd.concat([row, row['mean'].loc[metrics].max(axis=1).abs()], axis=0)).transpose()\n",
    "\n",
    "    best_results.append(row)\n",
    "best_results = pd.concat(best_results)\n",
    "\n",
    "best_results['mae'] = best_results['neg_mean_absolute_error']\n",
    "best_results['meae'] = best_results['neg_median_absolute_error']\n",
    "best_results['rmse'] = best_results['neg_mean_squared_error'].pow(1./2)\n",
    "best_results = best_results.sort_values(by=['sourcefile'])"
   ]
  },
  {
   "cell_type": "code",
   "execution_count": null,
   "metadata": {},
   "outputs": [],
   "source": [
    "metric_avg = analytics.aggregate_splits_per_epoch(results['outcome'], np.average)\n",
    "\n",
    "# display(analytics.aggregate_epochs(metric_avg, np.max).abs())"
   ]
  },
  {
   "cell_type": "code",
   "execution_count": null,
   "metadata": {},
   "outputs": [],
   "source": [
    "best_results['approach'] = best_results['approach'].apply(lambda v: v.replace('mean_std', 'ms'))\n",
    "# display(best_results[['date', 'approach', 'mae', 'rmse', 'pearsonr', 'spearmanr', 'kendalltau']])\n",
    "display(best_results[['approach', 'spearmanr', 'kendalltau']])\n",
    "\n",
    "# display(best_results[['approach', 'mae']].plot.bar(x='approach', y='mae', title='Wide and Deep MAE', figsize=(12, 6)))\n",
    "# display(best_results[['approach', 'rmse']].plot.bar(x='approach', y='rmse', title='Wide and Deep RMSE', figsize=(12, 6)))\n",
    "\n",
    "# display(best_results[['approach', 'pearsonr']].plot.bar(x='approach', y='pearsonr', title='Wide and Deep Pearson Correlation', figsize=(12, 6)))\n",
    "display(best_results[['approach', 'spearmanr']].plot.bar(x='approach', y='spearmanr', title='Spearman Correlation', figsize=(12, 6)))\n",
    "display(best_results[['approach', 'kendalltau']].plot.bar(x='approach', y='kendalltau', title='Kendall Correlation', figsize=(12, 6)))"
   ]
  }
 ],
 "metadata": {
  "kernelspec": {
   "display_name": "Python 3",
   "language": "python",
   "name": "python3"
  },
  "language_info": {
   "codemirror_mode": {
    "name": "ipython",
    "version": 3
   },
   "file_extension": ".py",
   "mimetype": "text/x-python",
   "name": "python",
   "nbconvert_exporter": "python",
   "pygments_lexer": "ipython3",
   "version": "3.8.5"
  }
 },
 "nbformat": 4,
 "nbformat_minor": 4
}
