{
 "cells": [
  {
   "cell_type": "markdown",
   "id": "noble-devon",
   "metadata": {},
   "source": [
    "# Analyze Results"
   ]
  },
  {
   "cell_type": "code",
   "execution_count": null,
   "id": "dress-malaysia",
   "metadata": {},
   "outputs": [],
   "source": [
    "import os.path\n",
    "import pandas as pd\n",
    "\n",
    "from dbispipeline.analytics import get_results_as_dataframe\n",
    "from hit_prediction_code.analytics import add_approach_to_df\n",
    "from hit_prediction_code.analytics import add_cv_epoch_evaluator_outcome_to_df\n",
    "\n",
    "results = get_results_as_dataframe(project_name='hit-prediction-ismir2020', table_name='hit_prediction')\n",
    "results = results[results['date'] > '2021-02-02']\n",
    "\n",
    "add_approach_to_df(results)\n",
    "add_cv_epoch_evaluator_outcome_to_df(results)"
   ]
  },
  {
   "cell_type": "code",
   "execution_count": null,
   "id": "endangered-assignment",
   "metadata": {},
   "outputs": [],
   "source": [
    "import numpy as np\n",
    "\n",
    "from matplotlib import pyplot\n",
    "import seaborn as sns\n",
    "\n",
    "from hit_prediction_code.analytics import foreach_epoch\n",
    "\n",
    "\n",
    "def plot_epochs(approach, data, columns, idx):\n",
    "    fig = pyplot.figure(figsize=(16, 14))\n",
    "    fig.suptitle(approach)\n",
    "    \n",
    "    for i in range(4):\n",
    "        plot = pyplot.subplot(2,2, i+1)\n",
    "        sns.heatmap(data[idx[i]])\n",
    "        plot.set_title('%s Epoches' % columns[idx[i]])\n",
    "    \n",
    "    pyplot.show()\n",
    "\n",
    "for _, result in results.iterrows():\n",
    "    mean_result = result['mean']\n",
    "    \n",
    "    cm_results = mean_result.loc['confusion_matrix']\n",
    "    \n",
    "    target_counts = np.sum(cm_results[0], axis=1) + 1\n",
    "    divisor = np.broadcast_to(target_counts + 1, (len(target_counts), (len(target_counts)))).transpose()\n",
    "\n",
    "    normalized_cm = []\n",
    "\n",
    "    for cm in cm_results:\n",
    "        cm = np.array(cm)\n",
    "        normalized_cm.append(cm / divisor)\n",
    "    \n",
    "    plot_epochs(result['approach'], normalized_cm, mean_result.columns, [19, 29, 39, 49])"
   ]
  },
  {
   "cell_type": "code",
   "execution_count": null,
   "id": "indian-throw",
   "metadata": {},
   "outputs": [],
   "source": [
    "\n",
    "\n",
    "plot_epochs('test title')"
   ]
  }
 ],
 "metadata": {
  "kernelspec": {
   "display_name": "Python 3",
   "language": "python",
   "name": "python3"
  },
  "language_info": {
   "codemirror_mode": {
    "name": "ipython",
    "version": 3
   },
   "file_extension": ".py",
   "mimetype": "text/x-python",
   "name": "python",
   "nbconvert_exporter": "python",
   "pygments_lexer": "ipython3",
   "version": "3.8.5"
  }
 },
 "nbformat": 4,
 "nbformat_minor": 5
}
