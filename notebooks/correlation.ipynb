{
 "cells": [
  {
   "cell_type": "code",
   "execution_count": null,
   "metadata": {},
   "outputs": [],
   "source": [
    "import pandas as pd\n",
    "import seaborn as sn\n",
    "import matplotlib.pyplot as plt\n",
    "import scipy.stats\n",
    "\n",
    "import hit_prediction_code.common as common\n",
    "from hit_prediction_code.dataloaders import EssentiaLoader\n",
    "\n",
    "dataset_name = 'msd_bb_mbid_cleaned_matches_ab_unique.parquet'\n",
    "data = common.read_dataframe('../data/hit_song_prediction_ismir2020/processed/' + dataset_name)\n",
    "\n",
    "targets = ['lastfm_listener_count', 'lastfm_playcount', 'peakPos', 'weeks']\n",
    "data = data[targets]\n",
    "\n",
    "print(data.shape)"
   ]
  },
  {
   "cell_type": "code",
   "execution_count": null,
   "metadata": {},
   "outputs": [],
   "source": [
    "display(data.sort_values(by=['lastfm_listener_count']))\n",
    "\n",
    "sn.heatmap(data.corr('spearman'), annot=True, vmin=-1., vmax=1., cmap='coolwarm')"
   ]
  },
  {
   "cell_type": "code",
   "execution_count": null,
   "metadata": {},
   "outputs": [],
   "source": [
    "features = map(lambda x: list(zip(x[0][0], x[1][0])), zip(dataloader.configuration['features_list'],dataloader.feature_indices))\n",
    "\n",
    "correlation = []\n",
    "for feature_group in features:\n",
    "    for feature, index in feature_group:\n",
    "        try:\n",
    "            correlation.append({'feature': str(feature), 'pearson': scipy.stats.pearsonr(data[:, index], labels)[0], 'kendall': scipy.stats.kendalltau(data[:, index], labels)[0], 'spearman': scipy.stats.spearmanr(data[:, index], labels)[0]})\n",
    "        except TypeError:\n",
    "            pass\n",
    "\n",
    "correlation = pd.DataFrame(correlation).dropna()\n",
    "\n",
    "correlation.plot.bar(x='feature', grid=True, figsize=(30,10))\n",
    "plt.savefig('../results/correlation_' + dataset_name + '.pdf')"
   ]
  }
 ],
 "metadata": {
  "kernelspec": {
   "display_name": "Python 3",
   "language": "python",
   "name": "python3"
  },
  "language_info": {
   "codemirror_mode": {
    "name": "ipython",
    "version": 3
   },
   "file_extension": ".py",
   "mimetype": "text/x-python",
   "name": "python",
   "nbconvert_exporter": "python",
   "pygments_lexer": "ipython3",
   "version": "3.6.12"
  }
 },
 "nbformat": 4,
 "nbformat_minor": 4
}
