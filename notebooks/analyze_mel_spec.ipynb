{
 "cells": [
  {
   "cell_type": "code",
   "execution_count": null,
   "metadata": {},
   "outputs": [],
   "source": [
    "import pandas as pd\n",
    "import numpy as np\n",
    "import matplotlib.pyplot as plt\n",
    "import seaborn as sns\n",
    "\n",
    "data = pd.read_pickle('data/processed/msd_bb_balanced_dev_sample.pickle')\n",
    "data = data['librosa_melspectrogram']\n",
    "\n",
    "all_melspect = np.vstack(data).flatten()\n",
    "sns.boxplot(x=all_melspect)\n",
    "plt.show()"
   ]
  },
  {
   "cell_type": "code",
   "execution_count": null,
   "metadata": {},
   "outputs": [],
   "source": [
    "first = data.iloc[0]\n",
    "\n",
    "from scipy import stats\n",
    "threshold = 10\n",
    "\n",
    "outlier_count = []\n",
    "for index, row in data.items():\n",
    "    z = np.abs(stats.zscore(row))\n",
    "    num_of_outliers = len(np.where(z > threshold)[0])\n",
    "    outlier_count.append(num_of_outliers)\n",
    "    \n",
    "sns.boxplot(x=outlier_count)"
   ]
  }
 ],
 "metadata": {
  "kernelspec": {
   "display_name": "Python 3",
   "language": "python",
   "name": "python3"
  },
  "language_info": {
   "codemirror_mode": {
    "name": "ipython",
    "version": 3
   },
   "file_extension": ".py",
   "mimetype": "text/x-python",
   "name": "python",
   "nbconvert_exporter": "python",
   "pygments_lexer": "ipython3",
   "version": "3.6.11"
  }
 },
 "nbformat": 4,
 "nbformat_minor": 4
}
