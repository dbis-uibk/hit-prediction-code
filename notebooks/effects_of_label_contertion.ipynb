{
 "cells": [
  {
   "cell_type": "markdown",
   "id": "urban-narrow",
   "metadata": {},
   "source": [
    "# Correlations"
   ]
  },
  {
   "cell_type": "code",
   "execution_count": null,
   "id": "descending-oasis",
   "metadata": {},
   "outputs": [],
   "source": [
    "import numpy as np\n",
    "from scipy import stats\n",
    "\n",
    "from hit_prediction_code.transformers.label import convert_array_to_closest_labels\n",
    "\n",
    "\n",
    "def corr(y_pred, y_true):\n",
    "    pearson, _ = stats.pearsonr(y_pred, y_true)\n",
    "    spearman, _ = stats.spearmanr(y_pred, y_true)\n",
    "    kendall, _ = stats.kendalltau(y_pred, y_true)\n",
    "    \n",
    "    return ('pearsonr', pearson), ('spearmanr', spearman), ('kendalltau', kendall)\n",
    "\n",
    "\n",
    "y_true = np.random.random_sample(42) * 150"
   ]
  },
  {
   "cell_type": "markdown",
   "id": "aware-princeton",
   "metadata": {},
   "source": [
    "## Prediction Shiffted"
   ]
  },
  {
   "cell_type": "code",
   "execution_count": null,
   "id": "cubic-quebec",
   "metadata": {},
   "outputs": [],
   "source": [
    "# shift by +50\n",
    "y_pred = y_true + 50\n",
    "\n",
    "display(*corr(y_pred, y_true))"
   ]
  },
  {
   "cell_type": "markdown",
   "id": "stable-framing",
   "metadata": {},
   "source": [
    "## Prediction converted to labels\n",
    "\n",
    "### Range 1-101"
   ]
  },
  {
   "cell_type": "code",
   "execution_count": null,
   "id": "presidential-protest",
   "metadata": {},
   "outputs": [],
   "source": [
    "labels = list(range(1, 102))\n",
    "y_pred = convert_array_to_closest_labels(y_true, labels)\n",
    "\n",
    "display(*corr(y_pred, y_true))"
   ]
  },
  {
   "cell_type": "markdown",
   "id": "scientific-spelling",
   "metadata": {},
   "source": [
    "### Range 1-150"
   ]
  },
  {
   "cell_type": "code",
   "execution_count": null,
   "id": "affecting-skill",
   "metadata": {},
   "outputs": [],
   "source": [
    "labels = list(range(1, 151))\n",
    "y_pred = convert_array_to_closest_labels(y_true, labels)\n",
    "\n",
    "display(*corr(y_pred, y_true))"
   ]
  },
  {
   "cell_type": "markdown",
   "id": "biological-programming",
   "metadata": {},
   "source": [
    "### Range 1-101 (step 10)"
   ]
  },
  {
   "cell_type": "code",
   "execution_count": null,
   "id": "invisible-hollow",
   "metadata": {},
   "outputs": [],
   "source": [
    "labels = list(range(1, 102, 10))\n",
    "y_pred = convert_array_to_closest_labels(y_true, labels)\n",
    "\n",
    "display(*corr(y_pred, y_true))"
   ]
  },
  {
   "cell_type": "markdown",
   "id": "reflected-definition",
   "metadata": {},
   "source": [
    "### Range 1-150 (step 10)"
   ]
  },
  {
   "cell_type": "code",
   "execution_count": null,
   "id": "cardiovascular-affiliate",
   "metadata": {},
   "outputs": [],
   "source": [
    "labels = list(range(1, 151, 10))\n",
    "y_pred = convert_array_to_closest_labels(y_true, labels)\n",
    "\n",
    "display(*corr(y_pred, y_true))"
   ]
  },
  {
   "cell_type": "markdown",
   "id": "annoying-screen",
   "metadata": {},
   "source": [
    "## Prediction converted to labels and shifted\n",
    "\n",
    "### Range 1-101"
   ]
  },
  {
   "cell_type": "code",
   "execution_count": null,
   "id": "numerous-sample",
   "metadata": {},
   "outputs": [],
   "source": [
    "labels = list(range(1, 102))\n",
    "\n",
    "# shift by +50\n",
    "y_pred = y_true + 50\n",
    "y_pred = convert_array_to_closest_labels(y_pred, labels)\n",
    "\n",
    "display(*corr(y_pred, y_true))"
   ]
  },
  {
   "cell_type": "markdown",
   "id": "threaded-scout",
   "metadata": {},
   "source": [
    "### Range 1-150"
   ]
  },
  {
   "cell_type": "code",
   "execution_count": null,
   "id": "promising-category",
   "metadata": {},
   "outputs": [],
   "source": [
    "labels = list(range(1, 151))\n",
    "\n",
    "# shift by +50\n",
    "y_pred = y_true + 50\n",
    "y_pred = convert_array_to_closest_labels(y_pred, labels)\n",
    "\n",
    "display(*corr(y_pred, y_true))"
   ]
  },
  {
   "cell_type": "markdown",
   "id": "ranging-cleaner",
   "metadata": {},
   "source": [
    "### Range 1-101 (step 10)"
   ]
  },
  {
   "cell_type": "code",
   "execution_count": null,
   "id": "tough-iraqi",
   "metadata": {},
   "outputs": [],
   "source": [
    "labels = list(range(1, 102, 10))\n",
    "\n",
    "# shift by +50\n",
    "y_pred = y_true + 50\n",
    "y_pred = convert_array_to_closest_labels(y_pred, labels)\n",
    "\n",
    "display(*corr(y_pred, y_true))"
   ]
  },
  {
   "cell_type": "markdown",
   "id": "linear-execution",
   "metadata": {},
   "source": [
    "### Range 1-150 (step 10)"
   ]
  },
  {
   "cell_type": "code",
   "execution_count": null,
   "id": "champion-static",
   "metadata": {},
   "outputs": [],
   "source": [
    "labels = list(range(1, 151, 10))\n",
    "\n",
    "# shift by +50\n",
    "y_pred = y_true + 50\n",
    "y_pred = convert_array_to_closest_labels(y_pred, labels)\n",
    "\n",
    "display(*corr(y_pred, y_true))"
   ]
  }
 ],
 "metadata": {
  "kernelspec": {
   "display_name": "Python 3",
   "language": "python",
   "name": "python3"
  },
  "language_info": {
   "codemirror_mode": {
    "name": "ipython",
    "version": 3
   },
   "file_extension": ".py",
   "mimetype": "text/x-python",
   "name": "python",
   "nbconvert_exporter": "python",
   "pygments_lexer": "ipython3",
   "version": "3.6.12"
  }
 },
 "nbformat": 4,
 "nbformat_minor": 5
}
