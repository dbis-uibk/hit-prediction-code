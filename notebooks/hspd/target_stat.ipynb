{
 "cells": [
  {
   "cell_type": "code",
   "execution_count": null,
   "id": "critical-board",
   "metadata": {},
   "outputs": [],
   "source": [
    "# Targets"
   ]
  },
  {
   "cell_type": "code",
   "execution_count": null,
   "id": "prostate-permit",
   "metadata": {},
   "outputs": [],
   "source": [
    "import pandas as pd\n",
    "import numpy as np\n",
    "import seaborn as sns\n",
    "import matplotlib.pyplot as plt\n",
    "from sklearn.preprocessing import MinMaxScaler\n",
    "\n",
    "from hit_prediction_code.transformers.label import compute_hit_score_on_df\n",
    "\n",
    "data = pd.read_parquet('../../data/hit_song_prediction_ismir2020/processed/msd_bb_mbid_cleaned_matches_ab_unique.parquet')\n",
    "compute_hit_score_on_df(\n",
    "  data,\n",
    "  pc_column='lastfm_playcount',\n",
    "  lc_column='lastfm_listener_count',\n",
    "  hit_score_column='yang_hit_score',\n",
    ")"
   ]
  },
  {
   "cell_type": "code",
   "execution_count": null,
   "id": "decreased-formation",
   "metadata": {},
   "outputs": [],
   "source": [
    "plot_data = pd.DataFrame()\n",
    "plot_data['listener-count'] = data['lastfm_listener_count']\n",
    "plot_data['play-count'] = data['lastfm_playcount']\n",
    "\n",
    "plot_data = plot_data.apply(np.log1p)\n",
    "plot_data['peak'] = data['peakPos'].fillna(150)\n",
    "plot_data['weeks'] = data['weeks'].fillna(0)\n",
    "plot_data['hit-score'] = data['yang_hit_score']\n",
    "\n",
    "scale = MinMaxScaler()\n",
    "plot_data_clean = pd.DataFrame(scale.fit_transform(plot_data.values), columns=plot_data.columns, index=plot_data.index)\n",
    "\n",
    "sns.set_theme(style='whitegrid')\n",
    "sns.boxplot(data=plot_data_clean, order=['listener-count', 'play-count', 'hit-score', 'peak', 'weeks']).set(title='HSP-S Targets')\n",
    "plt.savefig('../../results/hspd/hsp-s_tragets.png')"
   ]
  },
  {
   "cell_type": "code",
   "execution_count": null,
   "id": "another-faculty",
   "metadata": {},
   "outputs": [],
   "source": [
    "data_lfm = pd.read_parquet('../../data/hit_song_prediction_lastfm/processed/msd_lastfm_matches_ab_unique.parquet')\n",
    "compute_hit_score_on_df(\n",
    "  data_lfm,\n",
    "  pc_column='lastfm_playcount',\n",
    "  lc_column='lastfm_listener_count',\n",
    "  hit_score_column='yang_hit_score',\n",
    ")"
   ]
  },
  {
   "cell_type": "code",
   "execution_count": null,
   "id": "ordinary-rapid",
   "metadata": {},
   "outputs": [],
   "source": [
    "plot_data = pd.DataFrame()\n",
    "plot_data['listener-count'] = data_lfm['lastfm_listener_count']\n",
    "plot_data['play-count'] = data_lfm['lastfm_playcount']\n",
    "\n",
    "plot_data = plot_data.apply(np.log1p)\n",
    "plot_data['hit-score'] = data_lfm['yang_hit_score']\n",
    "\n",
    "scale = MinMaxScaler()\n",
    "plot_data_lfm = pd.DataFrame(scale.fit_transform(plot_data.values), columns=plot_data.columns, index=plot_data.index)\n",
    "sns.boxplot(data=plot_data_lfm, order=['listener-count', 'play-count', 'hit-score']).set(title='HSP-L Targets')\n",
    "plt.savefig('../../results/hspd/hsp-l_tragets.png')"
   ]
  },
  {
   "cell_type": "code",
   "execution_count": null,
   "id": "changing-welcome",
   "metadata": {},
   "outputs": [],
   "source": [
    "fig, (ax1, ax2) = plt.subplots(nrows=1, ncols=2, figsize=(15,4))\n",
    "plt.title('Test')\n",
    "\n",
    "sns.boxplot(data=plot_data_clean, order=['listener-count', 'play-count', 'hit-score', 'peak', 'weeks'], ax=ax1).set(title='HSP-S Dataset')\n",
    "sns.boxplot(data=plot_data_lfm, order=['listener-count', 'play-count', 'hit-score'], ax=ax2).set(title='HSP-L Dataset')\n",
    "plt.savefig('../../results/hspd/tragets.png')"
   ]
  },
  {
   "cell_type": "code",
   "execution_count": null,
   "id": "jewish-wright",
   "metadata": {},
   "outputs": [],
   "source": [
    "display(data[['lastfm_listener_count', 'lastfm_playcount']].min().round(0), data[['lastfm_listener_count', 'lastfm_playcount']].median().round(0), data[['lastfm_listener_count', 'lastfm_playcount']].max().round(0), len(data))"
   ]
  },
  {
   "cell_type": "code",
   "execution_count": null,
   "id": "otherwise-geography",
   "metadata": {},
   "outputs": [],
   "source": [
    "display(data_lfm[['lastfm_listener_count', 'lastfm_playcount']].min().round(0), data_lfm[['lastfm_listener_count', 'lastfm_playcount']].median().round(0), data_lfm[['lastfm_listener_count', 'lastfm_playcount']].max().round(0), len(data_lfm))"
   ]
  },
  {
   "cell_type": "code",
   "execution_count": null,
   "id": "enormous-moderator",
   "metadata": {},
   "outputs": [],
   "source": [
    "plot_data = pd.DataFrame()\n",
    "plot_data['lastfm_lc'] = data_lfm['lastfm_listener_count']\n",
    "plot_data['clean_lc'] = data['lastfm_listener_count']\n",
    "\n",
    "plot_data['lastfm_pc'] = data_lfm['lastfm_playcount']\n",
    "plot_data['clean_pc'] = data['lastfm_playcount']\n",
    "\n",
    "scale = MinMaxScaler()\n",
    "plot_data = pd.DataFrame(scale.fit_transform(plot_data.apply(np.log1p).values), columns=plot_data.columns, index=plot_data.index)\n",
    "\n",
    "sns.set_theme(style='whitegrid')\n",
    "sns.boxplot(data=plot_data)"
   ]
  },
  {
   "cell_type": "code",
   "execution_count": null,
   "id": "packed-aurora",
   "metadata": {},
   "outputs": [],
   "source": [
    "plot_data['clean_pc_hit'] = plot_data['clean_pc'] > plot_data['clean_pc'].median()\n",
    "\n",
    "sns.boxplot(x='clean_pc_hit', y='clean_pc', data=plot_data)"
   ]
  },
  {
   "cell_type": "code",
   "execution_count": null,
   "id": "thrown-cocktail",
   "metadata": {},
   "outputs": [],
   "source": [
    "plot_data['lastfm_pc_hit'] = plot_data['lastfm_pc'] > plot_data['lastfm_pc'].median()\n",
    "\n",
    "sns.boxplot(x='lastfm_pc_hit', y='lastfm_pc', data=plot_data)"
   ]
  }
 ],
 "metadata": {
  "kernelspec": {
   "display_name": "Python 3",
   "language": "python",
   "name": "python3"
  },
  "language_info": {
   "codemirror_mode": {
    "name": "ipython",
    "version": 3
   },
   "file_extension": ".py",
   "mimetype": "text/x-python",
   "name": "python",
   "nbconvert_exporter": "python",
   "pygments_lexer": "ipython3",
   "version": "3.8.11"
  }
 },
 "nbformat": 4,
 "nbformat_minor": 5
}
