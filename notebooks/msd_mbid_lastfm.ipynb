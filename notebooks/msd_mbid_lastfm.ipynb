{
 "cells": [
  {
   "cell_type": "code",
   "execution_count": null,
   "metadata": {},
   "outputs": [],
   "source": [
    "import pandas as pd\n",
    "\n",
    "msd_mbid_map = pd.read_csv(\n",
    "    '../data/hit_song_prediction_ismir2020/raw/msd-mbid-2016-01-results-ab.csv',\n",
    "    names=['msd_id', 'mbid', 'title', 'artist'],\n",
    ")\n",
    "\n",
    "msd_mbid_lastfm = pd.read_pickle('../data/hit_song_prediction_ismir2020/interim/msd_mbid_lastfm.pickle')\n",
    "\n",
    "msd_mbid_map = msd_mbid_map.merge(msd_mbid_lastfm, on=['mbid'])\n",
    "msd_mbid_map.drop_duplicates(['lastfm_mbid'], inplace=True)\n",
    "\n",
    "display(msd_mbid_map[['lastfm_listener_count']].plot.hist())"
   ]
  },
  {
   "cell_type": "code",
   "execution_count": null,
   "metadata": {},
   "outputs": [],
   "source": [
    "matches = pd.read_csv('../data/hit_song_prediction_ismir2020/interim/msd_bb_cleaned_matches.csv')\n",
    "print(matches.shape)\n",
    "display(matches.sort_values(by=['msd_id'])[['artist_clean', 'title_clean', 'msd_id', 'echo_nest_id']])"
   ]
  },
  {
   "cell_type": "code",
   "execution_count": null,
   "metadata": {},
   "outputs": [],
   "source": [
    "matches = pd.read_csv('../data/hit_song_prediction_ismir2020/interim/msd_bb_mbid_non_matches.csv')\n",
    "print(matches.shape)\n",
    "display(matches.sort_values(by=['uuid'])[['uuid', 'artist_clean', 'title_clean', 'msd_id', 'echo_nest_id', 'mbid', 'lastfm_mbid']])\n",
    "\n",
    "print(matches.drop_duplicates(['uuid']).shape, matches.columns)\n",
    "print(matches.drop_duplicates(['uuid', 'artist_clean', 'title_clean', 'msd_id', 'echo_nest_id', 'mbid', 'lastfm_mbid']).shape)"
   ]
  },
  {
   "cell_type": "code",
   "execution_count": null,
   "metadata": {},
   "outputs": [],
   "source": [
    "df = pd.read_parquet('../data/hit_song_prediction_ismir2020/processed/msd_bb_mbid_cleaned_matches_essentia_unique.parquet')\n",
    "\n",
    "cols = sorted([c for c in df.columns if 'metadata' not in c and 'highlevel' not in c and 'lowlevel' not in c and 'tonal' not in c and 'rhythm' not in c])\n",
    "\n",
    "display(df[cols])"
   ]
  },
  {
   "cell_type": "code",
   "execution_count": null,
   "metadata": {},
   "outputs": [],
   "source": [
    "targets = pd.read_csv('../data/hit_song_prediction_ismir2020/interim/msd_bb_mbid_targets.csv')\n",
    "display(targets)"
   ]
  }
 ],
 "metadata": {
  "kernelspec": {
   "display_name": "Python 3",
   "language": "python",
   "name": "python3"
  },
  "language_info": {
   "codemirror_mode": {
    "name": "ipython",
    "version": 3
   },
   "file_extension": ".py",
   "mimetype": "text/x-python",
   "name": "python",
   "nbconvert_exporter": "python",
   "pygments_lexer": "ipython3",
   "version": "3.6.12"
  }
 },
 "nbformat": 4,
 "nbformat_minor": 4
}
