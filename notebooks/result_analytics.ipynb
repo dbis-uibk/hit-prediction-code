{
 "cells": [
  {
   "cell_type": "markdown",
   "id": "unsigned-heath",
   "metadata": {},
   "source": [
    "# Analyze Results"
   ]
  },
  {
   "cell_type": "code",
   "execution_count": null,
   "id": "cubic-victor",
   "metadata": {},
   "outputs": [],
   "source": [
    "import os.path\n",
    "import pandas as pd\n",
    "\n",
    "from dbispipeline.analytics import get_results_as_dataframe\n",
    "from hit_prediction_code.analytics import add_approach_to_df\n",
    "from hit_prediction_code.analytics import add_cv_epoch_evaluator_outcome_to_df\n",
    "\n",
    "results = get_results_as_dataframe(project_name='hit-prediction-ismir2020', table_name='hit_prediction', filter_git_dirty=False)\n",
    "results = results[results['date'] > '2021-02-02']\n",
    "\n",
    "add_approach_to_df(results)\n",
    "add_cv_epoch_evaluator_outcome_to_df(results)"
   ]
  },
  {
   "cell_type": "code",
   "execution_count": null,
   "id": "polyphonic-origin",
   "metadata": {},
   "outputs": [],
   "source": [
    "import numpy as np\n",
    "\n",
    "from matplotlib import pyplot\n",
    "import seaborn as sns\n",
    "\n",
    "results = results.tail(1)\n",
    "mean_results = results['mean'].iloc[0]\n",
    "# print(mean_results.head(14).to_markdown())\n",
    "\n",
    "cm_results = mean_results.loc['confusion_matrix']\n",
    "\n",
    "cm_2 = np.array(cm_results[2])\n",
    "\n",
    "tp = np.sum(cm_2[:-1,:-1])\n",
    "tn = cm_2[-1,-1]\n",
    "\n",
    "p = np.sum(cm_2[:-1])\n",
    "n = np.sum(cm_2[-1])\n",
    "\n",
    "hit_nonhit_accuracy_25 = (tp + tn) / (p + n)\n",
    "print(hit_nonhit_accuracy_25)\n",
    "\n",
    "# y_pred_sums = np.sum(cm_2, axis=0) * range(1, 102)\n",
    "# y_true_sums = np.sum(cm_2, axis=1) * range(1, 102)\n",
    "\n",
    "# print(np.sum(y_pred_sums) / np.sum(cm_2), np.sum(y_true_sums) / np.sum(cm_2))\n",
    "\n",
    "# print(np.average(, weights=range(1,102)), np.average(np.sum(cm_results[2], axis=1), weights=range(1,102)))\n",
    "\n",
    "target_counts = np.sum(cm_results[0], axis=1) + 1\n",
    "\n",
    "divisor = np.broadcast_to(target_counts + 1, (len(target_counts), (len(target_counts)))).transpose()\n",
    "\n",
    "normalized_cm = []\n",
    "\n",
    "for cm in cm_results:\n",
    "    cm = np.array(cm)\n",
    "    normalized_cm.append(cm / divisor)\n",
    "    \n",
    "for i in range(0, int(len(normalized_cm)), 1):\n",
    "    pyplot.subplots(figsize=(20,15))\n",
    "    plot = sns.heatmap(normalized_cm[i])\n",
    "    plot.set_title('%s Epoches' % mean_results.columns[i])\n",
    "    pyplot.show()\n",
    "#     pyplot.savefig('../results/cm_norm_25_200.pdf')"
   ]
  }
 ],
 "metadata": {
  "kernelspec": {
   "display_name": "Python 3",
   "language": "python",
   "name": "python3"
  },
  "language_info": {
   "codemirror_mode": {
    "name": "ipython",
    "version": 3
   },
   "file_extension": ".py",
   "mimetype": "text/x-python",
   "name": "python",
   "nbconvert_exporter": "python",
   "pygments_lexer": "ipython3",
   "version": "3.8.5"
  }
 },
 "nbformat": 4,
 "nbformat_minor": 5
}
