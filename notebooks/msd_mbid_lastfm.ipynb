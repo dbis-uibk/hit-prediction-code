{
 "cells": [
  {
   "cell_type": "code",
   "execution_count": null,
   "metadata": {},
   "outputs": [],
   "source": [
    "import pandas as pd\n",
    "\n",
    "msd_mbid_map = pd.read_csv(\n",
    "    '../data/hit_song_prediction_ismir2020/raw/msd-mbid-2016-01-results-ab.csv',\n",
    "    names=['msd_id', 'mbid', 'title', 'artist'],\n",
    ")\n",
    "\n",
    "msd_mbid_lastfm = pd.read_pickle('../data/hit_song_prediction_ismir2020/interim/msd_mbid_lastfm.pickle')\n",
    "\n",
    "msd_mbid_map = msd_mbid_map.merge(msd_mbid_lastfm, on=['mbid'])\n",
    "msd_mbid_map.drop_duplicates(['lastfm_mbid'], inplace=True)\n",
    "\n",
    "display(msd_mbid_map[['lastfm_listener_count']].plot.hist())"
   ]
  }
 ],
 "metadata": {
  "kernelspec": {
   "display_name": "Python 3",
   "language": "python",
   "name": "python3"
  },
  "language_info": {
   "codemirror_mode": {
    "name": "ipython",
    "version": 3
   },
   "file_extension": ".py",
   "mimetype": "text/x-python",
   "name": "python",
   "nbconvert_exporter": "python",
   "pygments_lexer": "ipython3",
   "version": "3.6.12"
  }
 },
 "nbformat": 4,
 "nbformat_minor": 4
}
