{
 "cells": [
  {
   "cell_type": "markdown",
   "metadata": {},
   "source": [
    "# Datasets Statistics MSD BB MBID"
   ]
  },
  {
   "cell_type": "code",
   "execution_count": null,
   "metadata": {},
   "outputs": [],
   "source": [
    "import pandas as pd\n",
    "\n",
    "\n",
    "msd_bb_mbid_matches = pd.read_csv('../data/hit_song_prediction_ismir2020/interim/msd_bb_mbid_matches.csv', index_col=0)\n",
    "\n",
    "msd_bb_mbid_non_matches = pd.read_csv('../data/hit_song_prediction_ismir2020/interim/msd_bb_mbid_non_matches.csv', index_col=0)\n",
    "\n",
    "counts = pd.DataFrame({\n",
    "    'matches': {\n",
    "        'msd_id_count': msd_bb_mbid_matches['msd_id'].nunique(),\n",
    "        'mbid_count': msd_bb_mbid_matches['mbid'].nunique(),\n",
    "    },\n",
    "    'non_matches': {\n",
    "        'msd_id_count': msd_bb_mbid_non_matches['msd_id'].nunique(),\n",
    "        'mbid_count': msd_bb_mbid_non_matches['mbid'].nunique(),\n",
    "    },\n",
    "}).T\n",
    "\n",
    "counts['ratio'] = counts['mbid_count'] / counts['msd_id_count']\n",
    "display(counts)"
   ]
  },
  {
   "cell_type": "code",
   "execution_count": null,
   "metadata": {},
   "outputs": [],
   "source": [
    "ab_hl_features = pd.read_parquet('../data/hit_song_prediction_ismir2020/interim/msd_bb_mbid_matches_ab_hl_features.parquet')\n",
    "display(list(filter(lambda c: c.startswith('highlevel'), ab_hl_features.columns)))"
   ]
  },
  {
   "cell_type": "code",
   "execution_count": null,
   "metadata": {},
   "outputs": [],
   "source": [
    "feature = 'highlevel.gender.all.female'\n",
    "\n",
    "data = ab_hl_features.merge(msd_bb_mbid_matches, on=['mbid'])\n",
    "dup = data[data.duplicated(['msd_id'], keep=False)]\n",
    "\n",
    "describtion = dup[['msd_id', feature]].groupby('msd_id').apply(lambda x: x.describe().T)\n",
    "describtion['diff'] = describtion['max'] - describtion['min']\n",
    "\n",
    "stddev = data[feature].std()\n",
    "describtion['ratio'] = describtion['std'] / stddev\n",
    "\n",
    "display(describtion.describe())\n",
    "\n",
    "describtion[describtion['ratio'] >= 1.]"
   ]
  }
 ],
 "metadata": {
  "kernelspec": {
   "display_name": "Python 3",
   "language": "python",
   "name": "python3"
  },
  "language_info": {
   "codemirror_mode": {
    "name": "ipython",
    "version": 3
   },
   "file_extension": ".py",
   "mimetype": "text/x-python",
   "name": "python",
   "nbconvert_exporter": "python",
   "pygments_lexer": "ipython3",
   "version": "3.6.11"
  }
 },
 "nbformat": 4,
 "nbformat_minor": 4
}
