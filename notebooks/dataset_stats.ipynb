{
 "cells": [
  {
   "cell_type": "markdown",
   "metadata": {},
   "source": [
    "# Datasets Statistics"
   ]
  },
  {
   "cell_type": "code",
   "execution_count": null,
   "metadata": {},
   "outputs": [],
   "source": [
    "import pandas as pd\n",
    "\n",
    "\n",
    "msd_bb_mbid_matches = pd.read_csv('../data/hit_song_prediction_ismir2020/interim/msd_bb_mbid_matches.csv', index_col=0)\n",
    "print('Matches')\n",
    "print('unique MSD-IDs:', msd_bb_mbid_matches['msd_id'].nunique(), 'Unique MBIDs:', msd_bb_mbid_matches['mbid'].nunique())\n",
    "\n",
    "msd_bb_mbid_non_matches = pd.read_csv('../data/hit_song_prediction_ismir2020/interim/msd_bb_mbid_non_matches.csv', index_col=0)\n",
    "print('Non-Matches')\n",
    "print('unique MSD-IDs:', msd_bb_mbid_non_matches['msd_id'].nunique(), 'Unique MBIDs:', msd_bb_mbid_non_matches['mbid'].nunique())"
   ]
  },
  {
   "cell_type": "code",
   "execution_count": null,
   "metadata": {},
   "outputs": [],
   "source": [
    "from hit_prediction_code.dataloaders import acousticbrainz\n",
    "\n",
    "acousticbrainz.load_ab_features_as_df(list(msd_bb_mbid_matches['mbid'][:5]), 'll', project_home='..')"
   ]
  }
 ],
 "metadata": {
  "kernelspec": {
   "display_name": "Python 3",
   "language": "python",
   "name": "python3"
  },
  "language_info": {
   "codemirror_mode": {
    "name": "ipython",
    "version": 3
   },
   "file_extension": ".py",
   "mimetype": "text/x-python",
   "name": "python",
   "nbconvert_exporter": "python",
   "pygments_lexer": "ipython3",
   "version": "3.6.11"
  }
 },
 "nbformat": 4,
 "nbformat_minor": 4
}
