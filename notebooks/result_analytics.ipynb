{
 "cells": [
  {
   "cell_type": "markdown",
   "id": "drawn-strength",
   "metadata": {},
   "source": [
    "# Analyze Results"
   ]
  },
  {
   "cell_type": "code",
   "execution_count": null,
   "id": "eleven-brief",
   "metadata": {},
   "outputs": [],
   "source": [
    "import os.path\n",
    "import pandas as pd\n",
    "\n",
    "from dbispipeline.analytics import get_results_as_dataframe\n",
    "from hit_prediction_code.analytics import add_approach_to_df\n",
    "from hit_prediction_code.analytics import add_cv_epoch_evaluator_outcome_to_df\n",
    "\n",
    "results = get_results_as_dataframe(project_name='hit-prediction-ismir2020', table_name='hit_prediction', filter_git_dirty=False)\n",
    "results = results[results['date'] > '2021-02-02']\n",
    "\n",
    "add_approach_to_df(results)\n",
    "add_cv_epoch_evaluator_outcome_to_df(results)\n",
    "\n",
    "results.sort_values(by='approach', inplace=True)"
   ]
  },
  {
   "cell_type": "code",
   "execution_count": null,
   "id": "indirect-stanley",
   "metadata": {},
   "outputs": [],
   "source": [
    "import numpy as np\n",
    "\n",
    "from hit_prediction_code.analytics import plot_epochs_confution_matrix\n",
    "\n",
    "for _, result in results.iterrows():\n",
    "    mean_result = result['mean']\n",
    "    \n",
    "    cm_results = mean_result.loc['confusion_matrix']\n",
    "    \n",
    "    target_counts = np.sum(cm_results[0], axis=1) + 1\n",
    "    divisor = np.broadcast_to(target_counts + 1, (len(target_counts), (len(target_counts)))).transpose()\n",
    "\n",
    "    normalized_cm = []\n",
    "\n",
    "    for cm in cm_results:\n",
    "        cm = np.array(cm)\n",
    "        normalized_cm.append(cm / divisor)\n",
    "    \n",
    "    plot_shape = (2, 3)\n",
    "    \n",
    "    if len(normalized_cm) >= plot_shape[0] * plot_shape[1]:\n",
    "        plot_epochs_confution_matrix(result['approach'], normalized_cm, mean_result.columns, plot_shape=plot_shape, figsize=(24, 14))"
   ]
  }
 ],
 "metadata": {
  "kernelspec": {
   "display_name": "Python 3",
   "language": "python",
   "name": "python3"
  },
  "language_info": {
   "codemirror_mode": {
    "name": "ipython",
    "version": 3
   },
   "file_extension": ".py",
   "mimetype": "text/x-python",
   "name": "python",
   "nbconvert_exporter": "python",
   "pygments_lexer": "ipython3",
   "version": "3.8.5"
  }
 },
 "nbformat": 4,
 "nbformat_minor": 5
}
