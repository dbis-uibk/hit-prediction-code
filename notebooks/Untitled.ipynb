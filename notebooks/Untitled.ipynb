{
 "cells": [
  {
   "cell_type": "code",
   "execution_count": null,
   "id": "5b282c16",
   "metadata": {},
   "outputs": [],
   "source": [
    "\"\"\"LogisticRegressionClassifier plan using all features.\"\"\"\n",
    "import os.path\n",
    "\n",
    "from dbispipeline.evaluators import CvEpochEvaluator\n",
    "from sklearn.pipeline import Pipeline\n",
    "from sklearn.preprocessing import MinMaxScaler\n",
    "\n",
    "import hit_prediction_code.common as common\n",
    "from hit_prediction_code.dataloaders import ClassLoaderWrapper\n",
    "from hit_prediction_code.dataloaders import EssentiaLoader\n",
    "import hit_prediction_code.evaluations as evaluations\n",
    "from hit_prediction_code.models.linear import LogisticRegressionClassifier\n",
    "from hit_prediction_code.result_handlers import print_results_as_json\n",
    "\n",
    "PATH_PREFIX = '../data/hit_song_prediction_msd_bb_lfm_ab/processed'\n",
    "\n",
    "dataloader = EssentiaLoader(\n",
    "    dataset_path=os.path.join(\n",
    "        PATH_PREFIX,\n",
    "        'hsp-s_acousticbrainz.parquet',\n",
    "    ),\n",
    "    features=[\n",
    "        *common.all_no_year_list(),\n",
    "    ],\n",
    "    label='weeks',\n",
    "    nan_value=common.peak_pos_non_hit_value(),\n",
    ")\n",
    "\n",
    "labels = pd.DataFrame(dataloader.load()[1])\n",
    "\n",
    "labels[labels <= 100].plot.hist()"
   ]
  }
 ],
 "metadata": {
  "kernelspec": {
   "display_name": "Python 3 (ipykernel)",
   "language": "python",
   "name": "python3"
  },
  "language_info": {
   "codemirror_mode": {
    "name": "ipython",
    "version": 3
   },
   "file_extension": ".py",
   "mimetype": "text/x-python",
   "name": "python",
   "nbconvert_exporter": "python",
   "pygments_lexer": "ipython3",
   "version": "3.8.12"
  }
 },
 "nbformat": 4,
 "nbformat_minor": 5
}
