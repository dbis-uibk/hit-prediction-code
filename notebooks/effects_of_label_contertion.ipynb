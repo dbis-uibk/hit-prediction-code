{
 "cells": [
  {
   "cell_type": "markdown",
   "id": "animated-interview",
   "metadata": {},
   "source": [
    "# Correlations"
   ]
  },
  {
   "cell_type": "code",
   "execution_count": null,
   "id": "meaning-jewelry",
   "metadata": {},
   "outputs": [],
   "source": [
    "import numpy as np\n",
    "from scipy import stats\n",
    "\n",
    "from hit_prediction_code.transformers.label import convert_array_to_closest_labels\n",
    "\n",
    "\n",
    "def corr(y_pred, y_true):\n",
    "    pearson, _ = stats.pearsonr(y_pred, y_true)\n",
    "    spearman, _ = stats.spearmanr(y_pred, y_true)\n",
    "    kendall, _ = stats.kendalltau(y_pred, y_true)\n",
    "    \n",
    "    return ('pearsonr', pearson), ('spearmanr', spearman), ('kendalltau', kendall)\n",
    "\n",
    "\n",
    "y_true = np.random.random_sample(42) * 150"
   ]
  },
  {
   "cell_type": "markdown",
   "id": "working-publisher",
   "metadata": {},
   "source": [
    "## Prediction Shiffted"
   ]
  },
  {
   "cell_type": "code",
   "execution_count": null,
   "id": "caring-gnome",
   "metadata": {},
   "outputs": [],
   "source": [
    "# shift by +50\n",
    "y_pred = y_true + 50\n",
    "\n",
    "display(*corr(y_pred, y_true))"
   ]
  },
  {
   "cell_type": "markdown",
   "id": "fewer-apparatus",
   "metadata": {},
   "source": [
    "## Prediction converted to labels\n",
    "\n",
    "### Range 1-101"
   ]
  },
  {
   "cell_type": "code",
   "execution_count": null,
   "id": "loved-operations",
   "metadata": {},
   "outputs": [],
   "source": [
    "labels = list(range(1, 102))\n",
    "y_pred = convert_array_to_closest_labels(y_true, labels)\n",
    "\n",
    "display(*corr(y_pred, y_true))"
   ]
  },
  {
   "cell_type": "markdown",
   "id": "nuclear-sleeping",
   "metadata": {},
   "source": [
    "### Range 1-150"
   ]
  },
  {
   "cell_type": "code",
   "execution_count": null,
   "id": "constitutional-idaho",
   "metadata": {},
   "outputs": [],
   "source": [
    "labels = list(range(1, 151))\n",
    "y_pred = convert_array_to_closest_labels(y_true, labels)\n",
    "\n",
    "display(*corr(y_pred, y_true))"
   ]
  },
  {
   "cell_type": "markdown",
   "id": "cordless-therapist",
   "metadata": {},
   "source": [
    "### Range 1-101 (step 10)"
   ]
  },
  {
   "cell_type": "code",
   "execution_count": null,
   "id": "silver-cooperation",
   "metadata": {},
   "outputs": [],
   "source": [
    "labels = list(range(1, 102, 10))\n",
    "y_pred = convert_array_to_closest_labels(y_true, labels)\n",
    "\n",
    "display(*corr(y_pred, y_true))"
   ]
  },
  {
   "cell_type": "markdown",
   "id": "senior-nursing",
   "metadata": {},
   "source": [
    "### Range 1-150 (step 10)"
   ]
  },
  {
   "cell_type": "code",
   "execution_count": null,
   "id": "intellectual-letters",
   "metadata": {},
   "outputs": [],
   "source": [
    "labels = list(range(1, 151, 10))\n",
    "y_pred = convert_array_to_closest_labels(y_true, labels)\n",
    "\n",
    "display(*corr(y_pred, y_true))"
   ]
  },
  {
   "cell_type": "markdown",
   "id": "subjective-vessel",
   "metadata": {},
   "source": [
    "## Prediction converted to labels and shifted\n",
    "\n",
    "### Range 1-101"
   ]
  },
  {
   "cell_type": "code",
   "execution_count": null,
   "id": "protecting-wedding",
   "metadata": {},
   "outputs": [],
   "source": [
    "labels = list(range(1, 102))\n",
    "\n",
    "# shift by +50\n",
    "y_pred = y_true + 50\n",
    "y_pred = convert_array_to_closest_labels(y_pred, labels)\n",
    "\n",
    "display(*corr(y_pred, y_true))"
   ]
  },
  {
   "cell_type": "markdown",
   "id": "naughty-danger",
   "metadata": {},
   "source": [
    "### Range 1-150"
   ]
  },
  {
   "cell_type": "code",
   "execution_count": null,
   "id": "ignored-liberal",
   "metadata": {},
   "outputs": [],
   "source": [
    "labels = list(range(1, 151))\n",
    "\n",
    "# shift by +50\n",
    "y_pred = y_true + 50\n",
    "y_pred = convert_array_to_closest_labels(y_pred, labels)\n",
    "\n",
    "display(*corr(y_pred, y_true))"
   ]
  },
  {
   "cell_type": "markdown",
   "id": "stuffed-conditions",
   "metadata": {},
   "source": [
    "### Range 1-101 (step 10)"
   ]
  },
  {
   "cell_type": "code",
   "execution_count": null,
   "id": "paperback-convertible",
   "metadata": {},
   "outputs": [],
   "source": [
    "labels = list(range(1, 102, 10))\n",
    "\n",
    "# shift by +50\n",
    "y_pred = y_true + 50\n",
    "y_pred = convert_array_to_closest_labels(y_pred, labels)\n",
    "\n",
    "display(*corr(y_pred, y_true))"
   ]
  },
  {
   "cell_type": "markdown",
   "id": "surgical-scout",
   "metadata": {},
   "source": [
    "### Range 1-150 (step 10)"
   ]
  },
  {
   "cell_type": "code",
   "execution_count": null,
   "id": "stylish-branch",
   "metadata": {},
   "outputs": [],
   "source": [
    "labels = list(range(1, 151, 10))\n",
    "\n",
    "# shift by +50\n",
    "y_pred = y_true + 50\n",
    "y_pred = convert_array_to_closest_labels(y_pred, labels)\n",
    "\n",
    "display(*corr(y_pred, y_true))"
   ]
  }
 ],
 "metadata": {
  "kernelspec": {
   "display_name": "Python 3",
   "language": "python",
   "name": "python3"
  },
  "language_info": {
   "codemirror_mode": {
    "name": "ipython",
    "version": 3
   },
   "file_extension": ".py",
   "mimetype": "text/x-python",
   "name": "python",
   "nbconvert_exporter": "python",
   "pygments_lexer": "ipython3",
   "version": "3.8.5"
  }
 },
 "nbformat": 4,
 "nbformat_minor": 5
}
