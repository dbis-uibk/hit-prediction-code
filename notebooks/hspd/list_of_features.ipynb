{
 "cells": [
  {
   "cell_type": "code",
   "execution_count": null,
   "id": "virgin-modem",
   "metadata": {},
   "outputs": [],
   "source": [
    "# HSPd\n",
    "\n",
    "## Last.fm Dataset"
   ]
  },
  {
   "cell_type": "code",
   "execution_count": null,
   "id": "ultimate-desire",
   "metadata": {},
   "outputs": [],
   "source": [
    "import glob\n",
    "from collections import defaultdict\n",
    "import os.path\n",
    "\n",
    "import pandas as pd\n",
    "\n",
    "lfm_files = glob.glob('../../data/hit_song_prediction_lastfm/sample/*.pickle')\n",
    "\n",
    "\n",
    "def merge_features(cols):\n",
    "    cols = map(lambda c: '.'.join(str(c).split('.')[:2]), cols)\n",
    "    cols = sorted(list(set(cols)))\n",
    "    \n",
    "    return cols\n",
    "    \n",
    "ess_lfm_features = None\n",
    "for f in lfm_files:\n",
    "    columns = list(filter(lambda c: not c.startswith('metadata') ,pd.read_pickle(f).columns))\n",
    "    columns = merge_features(columns)\n",
    "    \n",
    "    if 'melspect' not in f:\n",
    "        if ess_lfm_features:\n",
    "            ess_lfm_features.intersection_update(set(columns))\n",
    "        else:\n",
    "            ess_lfm_features = set(columns)\n",
    "\n",
    "ess_f = sorted(list(filter(lambda f: (f.startswith('highlevel') or f.startswith('lowlevel') or f.startswith('rhythm') or f.startswith('tonal')), ess_lfm_features)))\n",
    "\n",
    "feat = defaultdict(list)\n",
    "for f in ess_f:\n",
    "    f = f.split('.')\n",
    "    feat[f[0]].append(f[1])\n",
    "    \n",
    "display(dict(feat))"
   ]
  },
  {
   "cell_type": "code",
   "execution_count": null,
   "id": "inner-quarterly",
   "metadata": {},
   "outputs": [],
   "source": [
    "import glob\n",
    "import os.path\n",
    "\n",
    "import pandas as pd\n",
    "\n",
    "cleaned_files = glob.glob('../../data/hit_song_prediction_ismir2020/sample/*.pickle')\n",
    "cleaned_files = list(filter(lambda f: 'cleaned' in f, cleaned_files))\n",
    "    \n",
    "ess_cleaned_features = None\n",
    "for f in cleaned_files:\n",
    "    columns = list(filter(lambda c: not str(c).startswith('metadata') ,pd.read_pickle(f).columns))\n",
    "    columns = merge_features(columns)\n",
    "    \n",
    "    if 'melspect' not in f:\n",
    "        if ess_cleaned_features:\n",
    "            ess_cleaned_features.intersection_update(set(columns))\n",
    "        else:\n",
    "            ess_cleaned_features = set(columns)\n",
    "            \n",
    "display(ess_cleaned_features - ess_lfm_features)"
   ]
  }
 ],
 "metadata": {
  "kernelspec": {
   "display_name": "Python 3",
   "language": "python",
   "name": "python3"
  },
  "language_info": {
   "codemirror_mode": {
    "name": "ipython",
    "version": 3
   },
   "file_extension": ".py",
   "mimetype": "text/x-python",
   "name": "python",
   "nbconvert_exporter": "python",
   "pygments_lexer": "ipython3",
   "version": "3.8.5"
  }
 },
 "nbformat": 4,
 "nbformat_minor": 5
}
