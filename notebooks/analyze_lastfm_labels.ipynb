{
 "cells": [
  {
   "cell_type": "markdown",
   "id": "8e84ef19",
   "metadata": {},
   "source": [
    "# Analyze last.fm Labels"
   ]
  },
  {
   "cell_type": "code",
   "execution_count": null,
   "id": "10f8b57e",
   "metadata": {},
   "outputs": [],
   "source": [
    "from matplotlib import pyplot\n",
    "import numpy as np\n",
    "import pandas as pd\n",
    "\n",
    "import hit_prediction_code.common as common\n",
    "from hit_prediction_code.transformers.label import convert_array_to_closest_labels as label_converter\n",
    "\n",
    "\n",
    "def threshold_info(labels, threshold):\n",
    "    return threshold, np.sum(labels <= threshold), np.sum(labels > threshold), labels.shape[0]\n",
    "\n",
    "def get_label_counts(converted_labels, target_labels):\n",
    "    counts = {}\n",
    "    for label_class, value in enumerate(target_labels):\n",
    "        counts[label_class] = np.sum(converted_labels == value)\n",
    "    \n",
    "    return pd.json_normalize(counts)\n",
    "\n",
    "def plot_label_histogram(labels, target_labels):\n",
    "    converted_labels = label_converter(labels, target_labels)\n",
    "\n",
    "    get_label_counts(converted_labels, target_labels).T.plot.bar()\n",
    "    pyplot.show()"
   ]
  },
  {
   "cell_type": "code",
   "execution_count": null,
   "id": "941ea054",
   "metadata": {},
   "outputs": [],
   "source": [
    "lc_labels = np.load('../data/lastfm_ab_lc_labels.npy')\n",
    "pc_labels = np.load('../data/lastfm_ab_pc_labels.npy')\n",
    "\n",
    "plot_label_histogram(lc_labels, common.lfmlc_labels())\n",
    "plot_label_histogram(lc_labels, common.linear_lfmlc_labels())\n",
    "plot_label_histogram(pc_labels, common.lfmpc_labels())\n",
    "plot_label_histogram(pc_labels, common.linear_lfmpc_labels())"
   ]
  },
  {
   "cell_type": "code",
   "execution_count": null,
   "id": "45d36e31",
   "metadata": {},
   "outputs": [],
   "source": [
    "print('LC labels')\n",
    "for i in range(1, 21):\n",
    "    threshold = 2 ** i\n",
    "    print(i, *threshold_info(lc_labels, threshold))\n",
    "    \n",
    "print('\\nPC labels')\n",
    "for i in range(1, 24):\n",
    "    threshold = 2 ** i\n",
    "    print(i, *threshold_info(pc_labels, threshold))"
   ]
  },
  {
   "cell_type": "code",
   "execution_count": null,
   "id": "c1dc1bb8",
   "metadata": {},
   "outputs": [],
   "source": [
    "print('lfmlc_labels\\n', list(enumerate(common.lfmlc_labels())))\n",
    "print('\\nlinear_lfmlc_labels\\n', list(enumerate(common.linear_lfmlc_labels())))\n",
    "print('\\nlfmpc_labels\\n', list(enumerate(common.lfmpc_labels())))\n",
    "print('\\nlinear_lfmpc_labels\\n', list(enumerate(common.linear_lfmpc_labels())))"
   ]
  }
 ],
 "metadata": {
  "kernelspec": {
   "display_name": "Python 3 (ipykernel)",
   "language": "python",
   "name": "python3"
  },
  "language_info": {
   "codemirror_mode": {
    "name": "ipython",
    "version": 3
   },
   "file_extension": ".py",
   "mimetype": "text/x-python",
   "name": "python",
   "nbconvert_exporter": "python",
   "pygments_lexer": "ipython3",
   "version": "3.8.12"
  }
 },
 "nbformat": 4,
 "nbformat_minor": 5
}
