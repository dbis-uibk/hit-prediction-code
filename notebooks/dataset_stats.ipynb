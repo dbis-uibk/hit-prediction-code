{
 "cells": [
  {
   "cell_type": "markdown",
   "metadata": {},
   "source": [
    "# Datasets Statistics"
   ]
  },
  {
   "cell_type": "code",
   "execution_count": null,
   "metadata": {},
   "outputs": [],
   "source": [
    "import pandas as pd\n",
    "\n",
    "dataset = pd.read_csv('../data/hit_song_prediction_ismir2020/raw/msd-mbid-2016-01-results-ab.csv', names=['msd_id', 'mbid', 'title', 'artist'])\n",
    "display(len(dataset.groupby(by=['msd_id'])))\n",
    "\n",
    "matches = pd.read_pickle('../data/hit_song_prediction_ismir2020/processed/msd_bb_matches.pickle')\n",
    "dataset = dataset.merge(matches, on=['msd_id'])"
   ]
  },
  {
   "cell_type": "code",
   "execution_count": null,
   "metadata": {},
   "outputs": [],
   "source": [
    "display(matches.shape)\n",
    "display(dataset.shape, len(dataset.groupby(by=['msd_id'])))"
   ]
  },
  {
   "cell_type": "markdown",
   "metadata": {},
   "source": [
    "Starting with approx. 5700 hit songs we have found a mbid for approx. 5100. Title and artist do not always match when msd_id does."
   ]
  },
  {
   "cell_type": "code",
   "execution_count": null,
   "metadata": {},
   "outputs": [],
   "source": [
    "dataset.head(10)"
   ]
  }
 ],
 "metadata": {
  "kernelspec": {
   "display_name": "Python 3",
   "language": "python",
   "name": "python3"
  },
  "language_info": {
   "codemirror_mode": {
    "name": "ipython",
    "version": 3
   },
   "file_extension": ".py",
   "mimetype": "text/x-python",
   "name": "python",
   "nbconvert_exporter": "python",
   "pygments_lexer": "ipython3",
   "version": "3.6.11"
  }
 },
 "nbformat": 4,
 "nbformat_minor": 4
}
