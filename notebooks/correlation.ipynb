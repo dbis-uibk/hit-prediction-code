{
 "cells": [
  {
   "cell_type": "code",
   "execution_count": null,
   "metadata": {},
   "outputs": [],
   "source": [
    "import pandas as pd\n",
    "import matplotlib.pyplot as plt\n",
    "import scipy.stats\n",
    "\n",
    "import hit_prediction_code.common as common\n",
    "from hit_prediction_code.dataloaders import EssentiaLoader\n",
    "\n",
    "dataset_name = 'msd_bb_balanced_essentia'\n",
    "dataloader = EssentiaLoader(\n",
    "    dataset_path='../data/processed/'+dataset_name+ '.pickle',\n",
    "    features=[\n",
    "        ('hl', 'wide'),\n",
    "        ('year', 'wide'),\n",
    "    ],\n",
    "    label='peak',\n",
    "    nan_value=150,\n",
    ")\n",
    "\n",
    "data, labels = dataloader.load()"
   ]
  },
  {
   "cell_type": "code",
   "execution_count": null,
   "metadata": {},
   "outputs": [],
   "source": [
    "features = map(lambda x: list(zip(x[0][0], x[1][0])), zip(dataloader.configuration['features_list'],dataloader.feature_indices))\n",
    "\n",
    "correlation = []\n",
    "for feature_group in features:\n",
    "    for feature, index in feature_group:\n",
    "        try:\n",
    "            correlation.append({'feature': str(feature), 'pearson': scipy.stats.pearsonr(data[:, index], labels)[0], 'kendall': scipy.stats.kendalltau(data[:, index], labels)[0], 'spearman': scipy.stats.spearmanr(data[:, index], labels)[0]})\n",
    "        except TypeError:\n",
    "            pass\n",
    "\n",
    "correlation = pd.DataFrame(correlation).dropna()\n",
    "\n",
    "correlation.plot.bar(x='feature', grid=True, figsize=(30,10))\n",
    "plt.savefig('../results/correlation_' + dataset_name + '.pdf')"
   ]
  }
 ],
 "metadata": {
  "kernelspec": {
   "display_name": "Python 3",
   "language": "python",
   "name": "python3"
  },
  "language_info": {
   "codemirror_mode": {
    "name": "ipython",
    "version": 3
   },
   "file_extension": ".py",
   "mimetype": "text/x-python",
   "name": "python",
   "nbconvert_exporter": "python",
   "pygments_lexer": "ipython3",
   "version": "3.6.10"
  }
 },
 "nbformat": 4,
 "nbformat_minor": 4
}
