{
 "cells": [
  {
   "cell_type": "markdown",
   "metadata": {},
   "source": [
    "# Compare AB and MP3 Sample Features"
   ]
  },
  {
   "cell_type": "code",
   "execution_count": null,
   "metadata": {},
   "outputs": [],
   "source": [
    "import numpy as np \n",
    "import pandas as pd \n",
    "import matplotlib.pyplot as plt\n",
    "\n",
    "data_path = '../data/hit_song_prediction_ismir2020/'\n",
    "\n",
    "\n",
    "def compare_ab_ess(data, column_filter, bins=50):\n",
    "    numeric_cols = list(data.values())[0].select_dtypes(['float', 'int']).columns\n",
    "    columns = sorted([c for c in numeric_cols if column_filter(c)])\n",
    "\n",
    "    for i, c in enumerate(columns):\n",
    "        df = pd.DataFrame()\n",
    "        for k, v in data.items():\n",
    "            df[k] = v[c]\n",
    "\n",
    "        print(c)\n",
    "        df.plot.hist(bins=bins, alpha=0.7, figsize=(16, 4 * len(data)))\n",
    "        plt.show()"
   ]
  },
  {
   "cell_type": "code",
   "execution_count": null,
   "metadata": {},
   "outputs": [],
   "source": [
    "ab_clean = pd.read_parquet(data_path + 'processed/msd_bb_mbid_cleaned_matches_ab_unique.parquet')\n",
    "ess_clean = pd.read_parquet(data_path + 'processed/msd_bb_mbid_cleaned_matches_essentia_unique.parquet')"
   ]
  },
  {
   "cell_type": "code",
   "execution_count": null,
   "metadata": {},
   "outputs": [],
   "source": [
    "data = {'AcousticBrainz': ab_clean, 'MP3 Essentia': ess_clean}\n",
    "\n",
    "compare_ab_ess(data, lambda c: c.startswith('lowlevel') and not c.endswith('probability'))"
   ]
  }
 ],
 "metadata": {
  "kernelspec": {
   "display_name": "Python 3",
   "language": "python",
   "name": "python3"
  },
  "language_info": {
   "codemirror_mode": {
    "name": "ipython",
    "version": 3
   },
   "file_extension": ".py",
   "mimetype": "text/x-python",
   "name": "python",
   "nbconvert_exporter": "python",
   "pygments_lexer": "ipython3",
   "version": "3.6.12"
  }
 },
 "nbformat": 4,
 "nbformat_minor": 4
}
