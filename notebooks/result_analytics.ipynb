{
 "cells": [
  {
   "cell_type": "markdown",
   "id": "convinced-gallery",
   "metadata": {},
   "source": [
    "# Analyze Results"
   ]
  },
  {
   "cell_type": "code",
   "execution_count": null,
   "id": "turned-words",
   "metadata": {},
   "outputs": [],
   "source": [
    "import os.path\n",
    "import pandas as pd\n",
    "\n",
    "from dbispipeline.analytics import get_results_as_dataframe\n",
    "from hit_prediction_code.analytics import add_approach_to_df\n",
    "from hit_prediction_code.analytics import add_cv_epoch_evaluator_outcome_to_df\n",
    "\n",
    "results = get_results_as_dataframe(project_name='hit-prediction-ismir2020', table_name='hit_prediction')\n",
    "results = results[results['date'] > '2021-02-02']\n",
    "\n",
    "add_approach_to_df(results)\n",
    "add_cv_epoch_evaluator_outcome_to_df(results)"
   ]
  },
  {
   "cell_type": "code",
   "execution_count": null,
   "id": "short-actress",
   "metadata": {},
   "outputs": [],
   "source": [
    "import numpy as np\n",
    "\n",
    "from matplotlib import pyplot\n",
    "import seaborn as sns\n",
    "\n",
    "from hit_prediction_code.analytics import foreach_epoch\n",
    "\n",
    "i = -1\n",
    "\n",
    "for _, result in results.iterrows():\n",
    "    mean_result = result['mean']\n",
    "    \n",
    "    cm_results = mean_result.loc['confusion_matrix']\n",
    "    \n",
    "    target_counts = np.sum(cm_results[0], axis=1) + 1\n",
    "    divisor = np.broadcast_to(target_counts + 1, (len(target_counts), (len(target_counts)))).transpose()\n",
    "\n",
    "    normalized_cm = []\n",
    "\n",
    "    for cm in cm_results:\n",
    "        cm = np.array(cm)\n",
    "        normalized_cm.append(cm / divisor)\n",
    "    \n",
    "#     for i in range(19, int(len(normalized_cm)), 20):\n",
    "    pyplot.subplots(figsize=(10,8))\n",
    "    plot = sns.heatmap(normalized_cm[i])\n",
    "    plot.set_title('%s with %s Epoches' % (result['approach'], mean_result.columns[i]))\n",
    "    pyplot.show()\n",
    "#     pyplot.savefig('../results/cm_norm_25_200.pdf')"
   ]
  }
 ],
 "metadata": {
  "kernelspec": {
   "display_name": "Python 3",
   "language": "python",
   "name": "python3"
  },
  "language_info": {
   "codemirror_mode": {
    "name": "ipython",
    "version": 3
   },
   "file_extension": ".py",
   "mimetype": "text/x-python",
   "name": "python",
   "nbconvert_exporter": "python",
   "pygments_lexer": "ipython3",
   "version": "3.8.5"
  }
 },
 "nbformat": 4,
 "nbformat_minor": 5
}
