{
 "cells": [
  {
   "cell_type": "markdown",
   "metadata": {},
   "source": [
    "# Analyze Dataset"
   ]
  },
  {
   "cell_type": "code",
   "execution_count": null,
   "metadata": {},
   "outputs": [],
   "source": [
    "import pandas as pd\n",
    "\n",
    "dataset = pd.read_parquet('../data/raw/lfm_popularity/dataset_20.parquet')\n",
    "cols = list(filter(lambda x: not x.startswith('highlevel') and not x.startswith('lowlevel') and not x.startswith('rhythm') and not x.startswith('tonal'), list(dataset.columns)))\n",
    "\n",
    "charts = pd.read_csv('/storage/nas3/datasets/music/billboard/billboard_hot-100_1958-08-11_2019-07-06.csv')\n",
    "\n",
    "\n",
    "display(dataset[dataset['artist_name'] == 'The Black Eyed Peas'][cols])\n",
    "\n",
    "dataset = dataset.merge(charts, left_on=['artist_name', 'recording_name'], right_on=['artist', 'title'])\n",
    "cols += list(charts.columns)\n",
    "\n",
    "display(dataset.shape, dataset[dataset['listener_count'] > 1000].shape)\n",
    "\n",
    "\n",
    "\n",
    "duplicates = dataset[dataset.duplicated(['artist_name', 'recording_name'], keep=False)]\n",
    "duplicates.sort_values(['artist_name', 'recording_name'], inplace=True)\n",
    "\n",
    "charts = dataset[dataset['listener_count'] < 1000][cols]\n",
    "charts = charts[charts['latest-date'] > '2000-01-01']\n",
    "\n",
    "display(charts)\n",
    "\n",
    "duplicates = duplicates[duplicates['listener_count'] > 100_000]\n",
    "\n",
    "\n",
    "\n",
    "display(duplicates[cols])"
   ]
  }
 ],
 "metadata": {
  "kernelspec": {
   "display_name": "Python 3",
   "language": "python",
   "name": "python3"
  },
  "language_info": {
   "codemirror_mode": {
    "name": "ipython",
    "version": 3
   },
   "file_extension": ".py",
   "mimetype": "text/x-python",
   "name": "python",
   "nbconvert_exporter": "python",
   "pygments_lexer": "ipython3",
   "version": "3.6.11"
  }
 },
 "nbformat": 4,
 "nbformat_minor": 4
}
