{
 "cells": [
  {
   "cell_type": "code",
   "execution_count": null,
   "metadata": {},
   "outputs": [],
   "source": [
    "import os.path\n",
    "\n",
    "import matplotlib.pyplot as plt\n",
    "import numpy as np\n",
    "import pandas as pd\n",
    "\n",
    "from dbispipeline.analytics import get_results_as_dataframe\n",
    "\n",
    "results = get_results_as_dataframe(project_name='hit-prediction-ismir2020', table_name='hit_prediction')\n",
    "results = results[results['date'] > '2020-08-01']\n",
    "results['mean'] = results['outcome'].apply(lambda v: pd.DataFrame(v['mean']))\n",
    "results['approach'] = results['sourcefile'].apply(lambda v: os.path.splitext(os.path.basename(v))[0].replace('unique_', '').replace('wide_and_deep', 'wd'))\n",
    "\n",
    "best_results = []\n",
    "for _, row in results.iterrows():\n",
    "    row = pd.DataFrame(pd.concat([row, row['mean'].max(axis=1).abs()], axis=0)).transpose()\n",
    "\n",
    "    best_results.append(row)\n",
    "best_results = pd.concat(best_results)\n",
    "\n",
    "best_results['mae'] = best_results['neg_mean_absolute_error']\n",
    "best_results['rmse'] = best_results['neg_mean_squared_error'].pow(1./2)\n",
    "best_results = best_results.sort_values(by=['approach'])\n",
    "\n",
    "display(best_results[['date', 'approach', 'mae', 'rmse', 'hit_nonhit_accuracy']])\n",
    "\n",
    "display(best_results[['approach', 'mae']].plot.bar(x='approach', y='mae', title='Wide and Deep MAE', figsize=(12, 6)))\n",
    "display(best_results[['approach', 'rmse']].plot.bar(x='approach', y='rmse', title='Wide and Deep RMSE', figsize=(12, 6)))\n",
    "display(best_results[['approach', 'hit_nonhit_accuracy']].plot.bar(x='approach', y='hit_nonhit_accuracy', title='Wide and Deep Hit/Non-Hit Accuracy', figsize=(12, 6)))"
   ]
  }
 ],
 "metadata": {
  "kernelspec": {
   "display_name": "Python 3",
   "language": "python",
   "name": "python3"
  },
  "language_info": {
   "codemirror_mode": {
    "name": "ipython",
    "version": 3
   },
   "file_extension": ".py",
   "mimetype": "text/x-python",
   "name": "python",
   "nbconvert_exporter": "python",
   "pygments_lexer": "ipython3",
   "version": "3.6.11"
  }
 },
 "nbformat": 4,
 "nbformat_minor": 4
}
