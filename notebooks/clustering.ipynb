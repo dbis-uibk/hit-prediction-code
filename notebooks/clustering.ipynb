{
 "cells": [
  {
   "cell_type": "markdown",
   "metadata": {},
   "source": [
    "# Clustering"
   ]
  },
  {
   "cell_type": "code",
   "execution_count": null,
   "metadata": {},
   "outputs": [],
   "source": [
    "import pandas as pd\n",
    "\n",
    "from hit_prediction_code import common\n",
    "from hit_prediction_code.dataloaders import matcher\n",
    "\n",
    "\n",
    "metadata = [\n",
    "    'metadata.audio_properties.analysis_sample_rate',\n",
    "    'metadata.audio_properties.bit_rate',\n",
    "    'metadata.audio_properties.codec',\n",
    "    'metadata.audio_properties.downmix',\n",
    "    'metadata.audio_properties.equal_loudness',\n",
    "    'metadata.audio_properties.length',\n",
    "    'metadata.audio_properties.lossless',\n",
    "    'metadata.audio_properties.md5_encoded',\n",
    "    'metadata.audio_properties.replay_gain',\n",
    "    'metadata.audio_properties.sample_rate',\n",
    "    'metadata.version.highlevel.essentia',\n",
    "    'metadata.version.highlevel.essentia_build_sha',\n",
    "    'metadata.version.highlevel.essentia_git_sha',\n",
    "    'metadata.version.highlevel.extractor',\n",
    "    'metadata.version.highlevel.gaia',\n",
    "    'metadata.version.highlevel.gaia_git_sha',\n",
    "    'metadata.version.highlevel.models_essentia_git_sha',\n",
    "    'metadata.version.lowlevel.essentia',\n",
    "    'metadata.version.lowlevel.essentia_build_sha',\n",
    "    'metadata.version.lowlevel.essentia_git_sha',\n",
    "    'metadata.version.lowlevel.extractor',\n",
    "]\n",
    "\n",
    "hl = pd.read_parquet('../data/hit_song_prediction_ismir2020/interim/msd_bb_mbid_cleaned_matches_ab_hl_features.parquet')\n",
    "features = common.filter_features(hl.columns, common.highlevel_regex())\n",
    "hl = hl[['mbid', 'file', 'file_id'] + features + metadata]\n",
    "\n",
    "msd_bb_mbid_cleaned_matches = pd.read_csv('../data/hit_song_prediction_ismir2020/interim/msd_bb_mbid_cleaned_matches.csv', header=0, index_col=0)\n",
    "msd_bb_mbid_cleaned_matches = matcher.filter_duplicates(msd_bb_mbid_cleaned_matches, id_cols=['mbid'], target_col='peakPos', keep_lowest=True)\n",
    "\n",
    "hl = hl.merge(msd_bb_mbid_cleaned_matches, on=['mbid']).dropna()\n",
    "hl = hl.drop_duplicates(['artist_clean', 'title_clean', 'file_id'])"
   ]
  },
  {
   "cell_type": "code",
   "execution_count": null,
   "metadata": {},
   "outputs": [],
   "source": [
    "min_length = 2 * 60\n",
    "max_length = 10 * 60\n",
    "\n",
    "song_count = len(hl[['artist_clean', 'title_clean']].drop_duplicates())\n",
    "hl_len = len(hl)\n",
    "\n",
    "hl = hl[hl['metadata.audio_properties.length'] >= min_length]\n",
    "hl = hl[hl['metadata.audio_properties.length'] < max_length]\n",
    "\n",
    "print(song_count, hl_len, len(hl[['artist_clean', 'title_clean']].drop_duplicates()), len(hl))\n",
    "\n",
    "hl = hl[hl.duplicated(['artist_clean', 'title_clean'], keep=False)]\n",
    "hl = hl.head(400)"
   ]
  },
  {
   "cell_type": "code",
   "execution_count": null,
   "metadata": {},
   "outputs": [],
   "source": [
    "from hit_prediction_code.cluster import select_features_with_clustering\n",
    "\n",
    "data = select_features_with_clustering(hl, song_id_cols=['artist_clean', 'title_clean'], feature_cols=features, certainty=1.2, feature_id='file_id')\n",
    "display(len(hl), len(data))\n",
    "hl = data"
   ]
  },
  {
   "cell_type": "code",
   "execution_count": null,
   "metadata": {},
   "outputs": [],
   "source": [
    "from sklearn import manifold\n",
    "\n",
    "dim_red = manifold.TSNE(n_components=2, init='pca', random_state=0)\n",
    "\n",
    "data = pd.DataFrame(dim_red.fit_transform(hl[features]))\n",
    "data['cluster_id'] = hl['cluster_id']\n",
    "data['song_id'] = hl['song_id']\n",
    "\n",
    "display(data.plot.scatter(x=0, y=1, c='song_id', colormap='nipy_spectral', title='TSNE song_id'))\n",
    "display(data.plot.scatter(x=0, y=1, c='cluster_id', colormap='nipy_spectral', title='TSNE cluster_id'))"
   ]
  },
  {
   "cell_type": "code",
   "execution_count": null,
   "metadata": {},
   "outputs": [],
   "source": [
    "for _, group in hl.groupby(['cluster_id']):\n",
    "    if group['song_id'].nunique() > 1:\n",
    "        display(group[['cluster_id', 'song_id', 'artist_clean', 'title_clean', 'mbid', 'peakPos', 'weeks']])"
   ]
  }
 ],
 "metadata": {
  "kernelspec": {
   "display_name": "Python 3",
   "language": "python",
   "name": "python3"
  },
  "language_info": {
   "codemirror_mode": {
    "name": "ipython",
    "version": 3
   },
   "file_extension": ".py",
   "mimetype": "text/x-python",
   "name": "python",
   "nbconvert_exporter": "python",
   "pygments_lexer": "ipython3",
   "version": "3.6.11"
  }
 },
 "nbformat": 4,
 "nbformat_minor": 4
}
