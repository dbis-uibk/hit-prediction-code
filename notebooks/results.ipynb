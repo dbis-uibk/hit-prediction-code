{
 "cells": [
  {
   "cell_type": "code",
   "execution_count": null,
   "metadata": {},
   "outputs": [],
   "source": [
    "import os.path\n",
    "\n",
    "import matplotlib.pyplot as plt\n",
    "import numpy as np\n",
    "import pandas as pd\n",
    "\n",
    "from dbispipeline.analytics import get_results_as_dataframe\n",
    "\n",
    "results = get_results_as_dataframe(project_name='hit-prediction-ismir2020', table_name='hit_prediction')\n",
    "results = results[(results['date'] > '2020-12-01')]\n",
    "results['mean'] = results['outcome'].apply(lambda v: pd.DataFrame(v['mean']))\n",
    "results['approach'] = results['sourcefile'].apply(lambda v: os.path.splitext(os.path.basename(v))[0].replace('unique_', '').replace('wide_and_deep', 'wd'))\n",
    "\n",
    "best_results = []\n",
    "for _, row in results.iterrows():\n",
    "    row = pd.DataFrame(pd.concat([row, row['mean'].max(axis=1).abs()], axis=0)).transpose()\n",
    "\n",
    "    best_results.append(row)\n",
    "best_results = pd.concat(best_results)\n",
    "\n",
    "best_results['mae'] = best_results['neg_mean_absolute_error']\n",
    "best_results['meae'] = best_results['neg_median_absolute_error']\n",
    "best_results['rmse'] = best_results['neg_mean_squared_error'].pow(1./2)\n",
    "best_results = best_results.sort_values(by=['approach'])"
   ]
  },
  {
   "cell_type": "code",
   "execution_count": null,
   "metadata": {},
   "outputs": [],
   "source": [
    "from hit_prediction_code import analytics\n",
    "\n",
    "metric_avg = analytics.aggregate_splits_per_epoch(results['outcome'], np.average)\n",
    "\n",
    "display(analytics.aggregate_epochs(metric_avg, np.max).abs())"
   ]
  },
  {
   "cell_type": "code",
   "execution_count": null,
   "metadata": {},
   "outputs": [],
   "source": [
    "display(best_results[['date', 'approach', 'mae', 'meae', 'rmse', 'pearsonr', 'spearmanr', 'kendalltau']])\n",
    "\n",
    "\n",
    "display(best_results[['approach', 'mae']].plot.bar(x='approach', y='mae', title='Wide and Deep MAE', figsize=(12, 6)))\n",
    "display(best_results[['approach', 'rmse']].plot.bar(x='approach', y='rmse', title='Wide and Deep RMSE', figsize=(12, 6)))\n",
    "\n",
    "display(best_results[['approach', 'pearsonr']].plot.bar(x='approach', y='pearsonr', title='Wide and Deep Pearson Correlation', figsize=(12, 6)))\n",
    "display(best_results[['approach', 'spearmanr']].plot.bar(x='approach', y='spearmanr', title='Wide and Deep Spearman Correlation', figsize=(12, 6)))\n",
    "display(best_results[['approach', 'kendalltau']].plot.bar(x='approach', y='kendalltau', title='Wide and Deep Kendall Correlation', figsize=(12, 6)))"
   ]
  }
 ],
 "metadata": {
  "kernelspec": {
   "display_name": "Python 3",
   "language": "python",
   "name": "python3"
  },
  "language_info": {
   "codemirror_mode": {
    "name": "ipython",
    "version": 3
   },
   "file_extension": ".py",
   "mimetype": "text/x-python",
   "name": "python",
   "nbconvert_exporter": "python",
   "pygments_lexer": "ipython3",
   "version": "3.8.5"
  }
 },
 "nbformat": 4,
 "nbformat_minor": 4
}
