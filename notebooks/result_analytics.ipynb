{
 "cells": [
  {
   "cell_type": "markdown",
   "id": "sealed-spyware",
   "metadata": {},
   "source": [
    "# Analyze Results"
   ]
  },
  {
   "cell_type": "code",
   "execution_count": null,
   "id": "particular-assist",
   "metadata": {},
   "outputs": [],
   "source": [
    "import os.path\n",
    "import numpy as np\n",
    "import pandas as pd\n",
    "\n",
    "from hit_prediction_code.analytics import get_results_as_dataframe\n",
    "from hit_prediction_code import analytics\n",
    "\n",
    "results = get_results_as_dataframe(\n",
    "    project_name='hit-prediction-ismir2020',\n",
    "    table_name='hit_prediction',\n",
    "    filter_git_dirty=True,\n",
    "#     date_filter='BETWEEN \\'2021-04-07 14:00:00\\' AND \\'2021-04-13 17:00:00\\'',\n",
    "    date_filter='>= \\'2021-04-07 14:00:00\\'',\n",
    "    columns=['id', 'sourcefile', 'outcome'],\n",
    "    filters=['sourcefile LIKE \\'plans/wide_and_deep_performance/%%ordinal_one_hot_all_lfmlc.py\\''],\n",
    "#     filters=['sourcefile LIKE \\'plans/ordinal%%\\''],\n",
    ")\n",
    "\n",
    "analytics.add_approach_to_df(results)\n",
    "analytics.add_cv_epoch_evaluator_outcome_to_df(results)\n",
    "\n",
    "results.sort_values(by='sourcefile', inplace=True)\n",
    "display(len(results))"
   ]
  },
  {
   "cell_type": "code",
   "execution_count": null,
   "id": "coupled-pendant",
   "metadata": {},
   "outputs": [],
   "source": [
    "normalize = 'true'\n",
    "# normalize = False\n",
    "\n",
    "for _, result in results.iterrows():\n",
    "    mean_result = result['mean']\n",
    "    display(mean_result)\n",
    "\n",
    "    normalized_cm = []\n",
    "    for cm in mean_result.loc['confusion_matrix']:\n",
    "        if normalize:\n",
    "            cm = analytics.normalize_confusion_matrix(cm, method=normalize)\n",
    "        else:\n",
    "            cm = np.array(cm)\n",
    "        normalized_cm.append(cm)\n",
    "    display(result['approach'])\n",
    "    outcome = analytics.scores_from_confusion_matrices(normalized_cm, mean_result.columns)\n",
    "    display(outcome)\n",
    "    best_f1 = outcome[outcome['macro_f1'] >= outcome['macro_f1'].max()]\n",
    "    display(best_f1)\n",
    "    \n",
    "    plot_shape = (1, 1)\n",
    "    fig_width = 21\n",
    "    if len(normalized_cm) >= plot_shape[0] * plot_shape[1]:\n",
    "        fig_size = (fig_width, int(fig_width / plot_shape[1] * plot_shape[0] * 0.85))\n",
    "        analytics.plot_epochs_confution_matrix(result['approach'], normalized_cm, mean_result.columns, plot_shape=plot_shape, figsize=fig_size)\n",
    "        \n",
    "    analytics.plot_reg(np.array(mean_result.loc['confusion_matrix'][best_f1.index[0]]))"
   ]
  }
 ],
 "metadata": {
  "kernelspec": {
   "display_name": "Python 3",
   "language": "python",
   "name": "python3"
  },
  "language_info": {
   "codemirror_mode": {
    "name": "ipython",
    "version": 3
   },
   "file_extension": ".py",
   "mimetype": "text/x-python",
   "name": "python",
   "nbconvert_exporter": "python",
   "pygments_lexer": "ipython3",
   "version": "3.8.5"
  }
 },
 "nbformat": 4,
 "nbformat_minor": 5
}
