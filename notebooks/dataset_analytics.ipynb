{
 "cells": [
  {
   "cell_type": "markdown",
   "metadata": {},
   "source": [
    "# Analyze Dataset"
   ]
  },
  {
   "cell_type": "code",
   "execution_count": null,
   "metadata": {},
   "outputs": [],
   "source": [
    "import glob\n",
    "import json\n",
    "\n",
    "import pandas as pd\n",
    "\n",
    "dataset = pd.read_parquet('../data/raw/lfm_popularity/dataset_20.parquet')\n",
    "dataset_cols = list(filter(lambda x: not x.startswith('highlevel') and not x.startswith('lowlevel') and not x.startswith('rhythm') and not x.startswith('tonal'), list(dataset.columns)))\n",
    "\n",
    "charts = pd.read_csv('/storage/nas3/datasets/music/billboard/billboard_hot-100_1958-08-11_2019-07-06.csv', header=0, index_col=0)\n",
    "visited = pd.read_csv('../data/interim/lfm_popularity/mp3s/visited.csv', header=0, index_col=0)\n",
    "\n",
    "charts_dataset = dataset.merge(charts, left_on=['artist_name', 'recording_name'], right_on=['artist', 'title'])\n",
    "visited_dataset = dataset.merge(visited, left_on=['recording_mbid'], right_on=['track_id'])\n",
    "\n",
    "visited_charts_dataset = visited_dataset.merge(charts_dataset, on=['recording_mbid'])"
   ]
  },
  {
   "cell_type": "markdown",
   "metadata": {},
   "source": [
    "## Show duplicates"
   ]
  },
  {
   "cell_type": "code",
   "execution_count": null,
   "metadata": {},
   "outputs": [],
   "source": [
    "duplicates = dataset[dataset.duplicated(['artist_name', 'recording_name'], keep=False)]\n",
    "duplicates.sort_values(['artist_name', 'recording_name'], inplace=True)\n",
    "duplicates = duplicates[duplicates['listener_count'] > 100_000]\n",
    "display(duplicates[dataset_cols])"
   ]
  },
  {
   "cell_type": "code",
   "execution_count": null,
   "metadata": {},
   "outputs": [],
   "source": [
    "## Charts"
   ]
  },
  {
   "cell_type": "code",
   "execution_count": null,
   "metadata": {},
   "outputs": [],
   "source": [
    "charts_dataset_cols = dataset_cols + ['lastPos', 'peakPos', 'rank', 'weeks', 'latest-date']\n",
    "\n",
    "display(charts_dataset[charts_dataset_cols])"
   ]
  },
  {
   "cell_type": "code",
   "execution_count": null,
   "metadata": {},
   "outputs": [],
   "source": [
    "visited_charts_dataset = visited_charts_dataset.merge(dataset, on=['recording_mbid'])\n",
    "visited_charts_dataset = visited_charts_dataset.merge(yt_info, on=['recording_mbid'])\n"
   ]
  },
  {
   "cell_type": "code",
   "execution_count": null,
   "metadata": {},
   "outputs": [],
   "source": [
    "import seaborn as sns\n",
    "\n",
    "corr = charts_dataset[['listener_count','play_count','peakPos', 'rank', 'weeks']].corr()\n",
    "sns.heatmap(corr, annot=True).set_title('Pearson')"
   ]
  },
  {
   "cell_type": "code",
   "execution_count": null,
   "metadata": {},
   "outputs": [],
   "source": [
    "kendal_corr = charts_dataset[['listener_count','play_count','peakPos', 'rank', 'weeks']].corr(method='kendall')\n",
    "sns.heatmap(kendal_corr, annot=True).set_title('kendall')"
   ]
  },
  {
   "cell_type": "code",
   "execution_count": null,
   "metadata": {},
   "outputs": [],
   "source": [
    "# visited_yt_info = []\n",
    "# files = glob.glob('../data/interim/lfm_popularity/mp3s/*.info.json')\n",
    "# display(len(files))\n",
    "# count = 0\n",
    "# for _, row in visited_dataset.iterrows():\n",
    "#     file = list(filter(lambda f: row['track_id'] in f, files))\n",
    "#     try:\n",
    "#         with open(file[0]) as json_file:\n",
    "#             info = json.load(json_file)\n",
    "#             info['recording_mbid'] = row['track_id']\n",
    "#             visited_yt_info.append(info)\n",
    "#     except:\n",
    "#         continue\n",
    "        \n",
    "#     count += 1\n",
    "    \n",
    "#     if count > 100:\n",
    "#         break\n",
    "\n",
    "# yt_info = pd.DataFrame(visited_yt_info)    \n",
    "# display(yt_info)"
   ]
  }
 ],
 "metadata": {
  "kernelspec": {
   "display_name": "Python 3",
   "language": "python",
   "name": "python3"
  },
  "language_info": {
   "codemirror_mode": {
    "name": "ipython",
    "version": 3
   },
   "file_extension": ".py",
   "mimetype": "text/x-python",
   "name": "python",
   "nbconvert_exporter": "python",
   "pygments_lexer": "ipython3",
   "version": "3.6.11"
  }
 },
 "nbformat": 4,
 "nbformat_minor": 4
}
