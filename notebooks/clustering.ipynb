{
 "cells": [
  {
   "cell_type": "markdown",
   "metadata": {},
   "source": [
    "# Clustering"
   ]
  },
  {
   "cell_type": "code",
   "execution_count": null,
   "metadata": {},
   "outputs": [],
   "source": [
    "import pandas as pd\n",
    "import numpy as np\n",
    "\n",
    "from hit_prediction_code import common\n",
    "from hit_prediction_code.dataloaders import matcher\n",
    "\n",
    "ab_cleaned = pd.read_parquet('../data/hit_song_prediction_ismir2020/processed/msd_bb_mbid_cleaned_matches_ab_unique.parquet')\n",
    "ess_cleaned = pd.read_parquet('../data/hit_song_prediction_ismir2020/processed/msd_bb_mbid_cleaned_matches_essentia_unique.parquet')\n",
    "numeric_cols = matcher.get_numeric_columns(ab_cleaned)\n",
    "features = set(common.get_columns_matching_list(numeric_cols, common.all_list()))"
   ]
  },
  {
   "cell_type": "code",
   "execution_count": null,
   "metadata": {},
   "outputs": [],
   "source": [
    "from sklearn import manifold\n",
    "\n",
    "dim_red = manifold.TSNE(n_components=2, init='pca', random_state=0)\n",
    "data = pd.DataFrame(dim_red.fit_transform(ab_cleaned[features]))"
   ]
  },
  {
   "cell_type": "code",
   "execution_count": null,
   "metadata": {},
   "outputs": [],
   "source": [
    "data['peakPos'] = ab_cleaned['peakPos']\n",
    "data['hit'] = (data['peakPos'] < 50).apply(lambda v: 'red' if v else 'gray')\n",
    "display(data.plot.scatter(x=0, y=1, c='peakPos', colormap='Spectral', title='TSNE peak pos', figsize=(15,10)))\n",
    "display(data.plot.scatter(x=0, y=1, c='hit', colormap='Spectral', title='TSNE peak pos', figsize=(15,10)))"
   ]
  }
 ],
 "metadata": {
  "kernelspec": {
   "display_name": "Python 3",
   "language": "python",
   "name": "python3"
  },
  "language_info": {
   "codemirror_mode": {
    "name": "ipython",
    "version": 3
   },
   "file_extension": ".py",
   "mimetype": "text/x-python",
   "name": "python",
   "nbconvert_exporter": "python",
   "pygments_lexer": "ipython3",
   "version": "3.6.11"
  }
 },
 "nbformat": 4,
 "nbformat_minor": 4
}
