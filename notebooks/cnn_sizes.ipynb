{
 "cells": [
  {
   "cell_type": "code",
   "execution_count": null,
   "id": "brown-narrow",
   "metadata": {},
   "outputs": [],
   "source": [
    "import tensorflow as tf\n",
    "\n",
    "input_shape = (4, 128, 1200, 1)\n",
    "x = tf.random.normal(input_shape)"
   ]
  },
  {
   "cell_type": "code",
   "execution_count": null,
   "id": "standard-greensboro",
   "metadata": {},
   "outputs": [],
   "source": [
    "display('block 1')\n",
    "layer_size = (128, 8)\n",
    "y = tf.keras.layers.Conv2D(32, layer_size, layer_size, activation='relu', input_shape=input_shape[1:])(x)\n",
    "display(y.shape)\n",
    "y = tf.keras.layers.MaxPool2D(pool_size=(1, 4))(y)\n",
    "display(y.shape)\n",
    "\n",
    "display('block 2')\n",
    "layer_size = (1, 8)\n",
    "y = tf.keras.layers.Conv2D(32, layer_size, layer_size, activation='relu')(y)\n",
    "display(y.shape)\n",
    "y = tf.keras.layers.MaxPool2D(pool_size=(1, 4))(y)\n",
    "display(y.shape)\n",
    "\n",
    "display('block 3')\n",
    "layer_size = (1, 1)\n",
    "y = tf.keras.layers.Conv2D(512, layer_size, layer_size, activation='relu')(y)\n",
    "display(y.shape)\n",
    "# y = tf.keras.layers.MaxPool2D(pool_size=(1, 2))(y)\n",
    "display(y.shape)\n",
    "\n",
    "display('block 4')\n",
    "layer_size = (1, 1)\n",
    "y = tf.keras.layers.Conv2D(512, layer_size, layer_size, activation='relu')(y)\n",
    "display(y.shape)\n",
    "# y = tf.keras.layers.MaxPool2D(pool_size=(1, 2))(y)\n",
    "display(y.shape)\n",
    "\n",
    "display('block 5')\n",
    "layer_size = (1, 1)\n",
    "y = tf.keras.layers.Conv2D(1, layer_size, layer_size, activation='relu')(y)\n",
    "display(y.shape)\n",
    "# y = tf.keras.layers.MaxPool2D(pool_size=(1, 2))(y)\n",
    "display(y.shape)\n",
    "\n",
    "display('flatten')\n",
    "y = tf.keras.layers.Flatten()(y)\n",
    "display(y.shape)"
   ]
  }
 ],
 "metadata": {
  "kernelspec": {
   "display_name": "Python 3",
   "language": "python",
   "name": "python3"
  },
  "language_info": {
   "codemirror_mode": {
    "name": "ipython",
    "version": 3
   },
   "file_extension": ".py",
   "mimetype": "text/x-python",
   "name": "python",
   "nbconvert_exporter": "python",
   "pygments_lexer": "ipython3",
   "version": "3.8.5"
  }
 },
 "nbformat": 4,
 "nbformat_minor": 5
}
