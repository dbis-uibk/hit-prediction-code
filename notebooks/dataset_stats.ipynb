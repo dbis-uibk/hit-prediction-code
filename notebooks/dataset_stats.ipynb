{
 "cells": [
  {
   "cell_type": "markdown",
   "metadata": {},
   "source": [
    "# Datasets Statistics"
   ]
  },
  {
   "cell_type": "code",
   "execution_count": null,
   "metadata": {},
   "outputs": [],
   "source": [
    "import pandas as pd\n",
    "\n",
    "dataset = pd.read_csv('../data/hit_song_prediction_ismir2020/raw/msd-mbid-2016-01-results-ab.csv', names=['msd_id', 'mbid', 'title', 'artist'])\n",
    "print('Dataset unique MSD-IDs:', dataset['msd_id'].nunique())\n",
    "\n",
    "matches = pd.read_csv('../data/hit_song_prediction_ismir2019/msd_bb_matches.csv', index_col=0)\n",
    "print('Matches unique MSD-IDs:', matches['msd_id'].nunique())\n",
    "\n",
    "matches_dataset = dataset.merge(matches, on=['msd_id'])\n",
    "print('Matches dataset unique MSD-IDs:', matches_dataset['msd_id'].nunique(), 'Unique MBIDs:', matches_dataset['mbid'].nunique())\n",
    "\n",
    "non_matches = pd.read_csv('../data/hit_song_prediction_ismir2019/msd_bb_non_matches.csv', index_col=0)\n",
    "print('Non-Matches unique MSD-IDs:', non_matches['msd_id'].nunique(), 'Unique MBIDs:')\n",
    "\n",
    "non_matches_dataset = dataset.merge(non_matches, on=['msd_id'])\n",
    "print('Non-Matches unique MSD-IDs:', non_matches_dataset['msd_id'].nunique(), 'Unique MBIDs:', non_matches_dataset['mbid'].nunique())"
   ]
  },
  {
   "cell_type": "code",
   "execution_count": null,
   "metadata": {},
   "outputs": [],
   "source": [
    "from hit_prediction_code.dataloaders import acousticbrainz\n",
    "\n",
    "acousticbrainz.load_ab_features_as_df(list(matches_dataset['mbid'][:10]), 'll', project_home='..')"
   ]
  }
 ],
 "metadata": {
  "kernelspec": {
   "display_name": "Python 3",
   "language": "python",
   "name": "python3"
  },
  "language_info": {
   "codemirror_mode": {
    "name": "ipython",
    "version": 3
   },
   "file_extension": ".py",
   "mimetype": "text/x-python",
   "name": "python",
   "nbconvert_exporter": "python",
   "pygments_lexer": "ipython3",
   "version": "3.6.11"
  }
 },
 "nbformat": 4,
 "nbformat_minor": 4
}
